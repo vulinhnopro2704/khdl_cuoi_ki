{
 "cells": [
  {
   "cell_type": "markdown",
   "id": "509fcd89",
   "metadata": {},
   "source": [
    "# Clean data, handle missing values, encode categorical variables, feature engineering, Split train and test sets\n"
   ]
  },
  {
   "cell_type": "markdown",
   "id": "1c611fd2",
   "metadata": {},
   "source": [
    "# 2 Clean Data\n"
   ]
  },
  {
   "cell_type": "code",
   "execution_count": 6,
   "id": "a7e6e8f9",
   "metadata": {
    "vscode": {
     "languageId": "shellscript"
    }
   },
   "outputs": [
    {
     "name": "stdout",
     "output_type": "stream",
     "text": [
      "Requirement already satisfied: seaborn in e:\\dut_linh\\hk6\\khdl\\final_term_2\\.venv\\lib\\site-packages (0.13.2)\n",
      "Requirement already satisfied: matplotlib in e:\\dut_linh\\hk6\\khdl\\final_term_2\\.venv\\lib\\site-packages (3.10.3)\n",
      "Requirement already satisfied: pandas in e:\\dut_linh\\hk6\\khdl\\final_term_2\\.venv\\lib\\site-packages (2.2.3)\n",
      "Requirement already satisfied: numpy in e:\\dut_linh\\hk6\\khdl\\final_term_2\\.venv\\lib\\site-packages (2.2.6)\n",
      "Requirement already satisfied: contourpy>=1.0.1 in e:\\dut_linh\\hk6\\khdl\\final_term_2\\.venv\\lib\\site-packages (from matplotlib) (1.3.2)\n",
      "Requirement already satisfied: cycler>=0.10 in e:\\dut_linh\\hk6\\khdl\\final_term_2\\.venv\\lib\\site-packages (from matplotlib) (0.12.1)\n",
      "Requirement already satisfied: fonttools>=4.22.0 in e:\\dut_linh\\hk6\\khdl\\final_term_2\\.venv\\lib\\site-packages (from matplotlib) (4.58.0)\n",
      "Requirement already satisfied: kiwisolver>=1.3.1 in e:\\dut_linh\\hk6\\khdl\\final_term_2\\.venv\\lib\\site-packages (from matplotlib) (1.4.8)\n",
      "Requirement already satisfied: packaging>=20.0 in e:\\dut_linh\\hk6\\khdl\\final_term_2\\.venv\\lib\\site-packages (from matplotlib) (25.0)\n",
      "Requirement already satisfied: pillow>=8 in e:\\dut_linh\\hk6\\khdl\\final_term_2\\.venv\\lib\\site-packages (from matplotlib) (11.2.1)\n",
      "Requirement already satisfied: pyparsing>=2.3.1 in e:\\dut_linh\\hk6\\khdl\\final_term_2\\.venv\\lib\\site-packages (from matplotlib) (3.2.3)\n",
      "Requirement already satisfied: python-dateutil>=2.7 in e:\\dut_linh\\hk6\\khdl\\final_term_2\\.venv\\lib\\site-packages (from matplotlib) (2.9.0.post0)\n",
      "Requirement already satisfied: pytz>=2020.1 in e:\\dut_linh\\hk6\\khdl\\final_term_2\\.venv\\lib\\site-packages (from pandas) (2025.2)\n",
      "Requirement already satisfied: tzdata>=2022.7 in e:\\dut_linh\\hk6\\khdl\\final_term_2\\.venv\\lib\\site-packages (from pandas) (2025.2)\n",
      "Requirement already satisfied: six>=1.5 in e:\\dut_linh\\hk6\\khdl\\final_term_2\\.venv\\lib\\site-packages (from python-dateutil>=2.7->matplotlib) (1.17.0)\n",
      "Note: you may need to restart the kernel to use updated packages.\n"
     ]
    }
   ],
   "source": [
    "pip install seaborn matplotlib pandas numpy"
   ]
  },
  {
   "cell_type": "code",
   "execution_count": 7,
   "id": "edb3ace4",
   "metadata": {},
   "outputs": [],
   "source": [
    "import numpy as np\n",
    "import pandas as pd\n",
    "import seaborn as sns\n",
    "import matplotlib.pyplot as plt"
   ]
  },
  {
   "cell_type": "code",
   "execution_count": null,
   "id": "88992f5f",
   "metadata": {},
   "outputs": [
    {
     "name": "stdout",
     "output_type": "stream",
     "text": [
      "['url', 'price', 'box_type', 'case_diameter', 'case_thickness', 'case_material', 'case_shape', 'case_back', 'band_material', 'band_type', 'band_color', 'clasp', 'dial_color', 'type', 'crystal', 'hands', 'dial_markers', 'second_markers', 'bezel', 'bezel_color', 'bezel_material', 'brand', 'collection_name', 'gender', 'model', 'watch_label', 'movement', 'engine', 'water_resistance', 'calendar', 'functions', 'watch_features', 'watch_style', 'warranty', 'jomashop_sku', 'department', 'category', 'crown', 'luminiscence', 'item_variation', 'power_reserve', 'additional_info', 'color', 'box', 'papers', 'band_width', 'sub_dials', 'upc_code', 'closure_type', 'preowned_item_condition', 'year', 'comments', 'band_length', 'case_color', 'size_info', 'brand_type', 'condition_description', 'material', 'launch_year']\n"
     ]
    }
   ],
   "source": [
    "import re\n",
    "# Đọc dữ liệu\n",
    "df = pd.read_csv('../data/raw_data.csv')\n",
    "\n",
    "# Hàm chuyển từ bất kỳ chuỗi nào sang snake_case\n",
    "def to_snake_case(s):\n",
    "    # Loại bỏ khoảng trắng hai đầu, chuyển về lowercase\n",
    "    s = s.strip().lower()\n",
    "    # Thay mọi ký tự không phải chữ số/chữ thường bằng dấu gạch dưới\n",
    "    s = re.sub(r'[^0-9a-z]+', '_', s)\n",
    "    # Loại bỏ gạch dưới thừa ở đầu/cuối\n",
    "    s = re.sub(r'^_|_$', '', s)\n",
    "    return s\n",
    "\n",
    "# Áp dụng cho tất cả cột\n",
    "df.columns = [to_snake_case(col) for col in df.columns]\n",
    "\n",
    "# Kiểm tra kết quả\n",
    "print(df.columns.tolist())"
   ]
  },
  {
   "cell_type": "code",
   "execution_count": 9,
   "id": "6ca81507",
   "metadata": {},
   "outputs": [
    {
     "data": {
      "text/plain": [
       "(13884, 59)"
      ]
     },
     "execution_count": 9,
     "metadata": {},
     "output_type": "execute_result"
    }
   ],
   "source": [
    "# Check shape of the data\n",
    "df.shape"
   ]
  },
  {
   "cell_type": "code",
   "execution_count": 1,
   "id": "8f9b3d32",
   "metadata": {},
   "outputs": [
    {
     "ename": "NameError",
     "evalue": "name 'df' is not defined",
     "output_type": "error",
     "traceback": [
      "\u001b[31m---------------------------------------------------------------------------\u001b[39m",
      "\u001b[31mNameError\u001b[39m                                 Traceback (most recent call last)",
      "\u001b[36mCell\u001b[39m\u001b[36m \u001b[39m\u001b[32mIn[1]\u001b[39m\u001b[32m, line 2\u001b[39m\n\u001b[32m      1\u001b[39m \u001b[38;5;66;03m# Check missing values and % data missing\u001b[39;00m\n\u001b[32m----> \u001b[39m\u001b[32m2\u001b[39m \u001b[38;5;28mprint\u001b[39m(\u001b[43mdf\u001b[49m.isnull().sum() / df.shape[\u001b[32m0\u001b[39m] * \u001b[32m100\u001b[39m)\n",
      "\u001b[31mNameError\u001b[39m: name 'df' is not defined"
     ]
    }
   ],
   "source": [
    "# Check missing values and % data missing\n",
    "print(df.isnull().sum() / df.shape[0] * 100)"
   ]
  },
  {
   "cell_type": "code",
   "execution_count": null,
   "id": "92cc0328",
   "metadata": {},
   "outputs": [
    {
     "data": {
      "text/plain": [
       "(9272, 59)"
      ]
     },
     "execution_count": 11,
     "metadata": {},
     "output_type": "execute_result"
    }
   ],
   "source": [
    "# Filter, Only Get rows with category 'Watches'\n",
    "df_watches = df[df['category'] == 'Watches']\n",
    "df = df_watches.copy()\n",
    "df.shape"
   ]
  },
  {
   "cell_type": "code",
   "execution_count": null,
   "id": "a1cae1d2",
   "metadata": {},
   "outputs": [],
   "source": [
    "df.to_csv('../data/cleaned_products.csv', index=False)"
   ]
  },
  {
   "cell_type": "code",
   "execution_count": null,
   "id": "e9ece1d1",
   "metadata": {},
   "outputs": [
    {
     "name": "stdout",
     "output_type": "stream",
     "text": [
      "Columns with more than 45.0% missing values: ['luminiscence', 'item_variation', 'power_reserve', 'additional_info', 'color', 'box', 'papers', 'band_width', 'sub_dials', 'upc_code', 'closure_type', 'preowned_item_condition', 'year', 'comments', 'band_length', 'case_color', 'size_info', 'brand_type', 'condition_description', 'material', 'launch_year']\n",
      "Remaining columns: ['band_color', 'band_material', 'band_type', 'bezel', 'bezel_color', 'bezel_material', 'box_type', 'brand', 'calendar', 'case_back', 'case_diameter', 'case_material', 'case_shape', 'case_thickness', 'category', 'clasp', 'collection_name', 'crown', 'crystal', 'department', 'dial_color', 'dial_markers', 'engine', 'functions', 'gender', 'hands', 'jomashop_sku', 'model', 'movement', 'price', 'second_markers', 'type', 'url', 'warranty', 'watch_features', 'watch_label', 'watch_style', 'water_resistance']\n"
     ]
    }
   ],
   "source": [
    "# Ngưỡng 30% (threshold = 0.3): loại bỏ tất cả các cột có ≥ 30% giá trị thiếu.\n",
    "# Các cột vượt ngưỡng:\n",
    "# CASE_THICKNESS (44.6%)\n",
    "# SECOND_MARKERS (40.5%)\n",
    "# ENGINE (47.5%)\n",
    "# CALENDAR (47.3%)\n",
    "# CROWN (38.3%)\n",
    "# CATEGORY (36.6%)\n",
    "# WATCH_LABEL (30.5%)\n",
    "# BEZEL_COLOR (31.1%)\n",
    "# Ngưỡng 40% (threshold = 0.4): chỉ loại những cột missing ≥ 40%.\n",
    "# CASE_THICKNESS, SECOND_MARKERS, ENGINE, CALENDAR\n",
    "# Remove columns with more than 30% missing values\n",
    "threshold = 0.45\n",
    "missing_cols = df.columns[df.isnull().mean() > threshold]\n",
    "print(f\"Columns with more than {threshold * 100}% missing values: {missing_cols.tolist()}\")\n",
    "print(f\"Remaining columns: {df.columns.difference(missing_cols).tolist()}\")\n",
    "df = df.drop(columns=missing_cols)\n",
    "# Save cleaned data to a new csv file\n",
    "df.to_csv('../data/cleaned_products.csv', index=False)"
   ]
  },
  {
   "cell_type": "code",
   "execution_count": null,
   "id": "d4d184d2",
   "metadata": {},
   "outputs": [
    {
     "name": "stdout",
     "output_type": "stream",
     "text": [
      "Index(['price', 'case_material', 'band_material', 'case_back',\n",
      "       'bezel_material', 'brand', 'gender', 'movement', 'watch_style',\n",
      "       'case_diameter', 'water_resistance', 'case_thickness', 'crystal',\n",
      "       'hands', 'dial_markers'],\n",
      "      dtype='object')\n"
     ]
    }
   ],
   "source": [
    "### Get Most important features of a Clock\n",
    "\n",
    "import pandas as pd\n",
    "\n",
    "# Giả sử df là DataFrame gốc\n",
    "cols = [\n",
    "    'price',\n",
    "    'case_material',\n",
    "    'band_material',\n",
    "    'case_back',\n",
    "    'bezel_material',\n",
    "    'brand',\n",
    "    'gender',\n",
    "    'movement',\n",
    "    'watch_style',\n",
    "    'case_diameter',\n",
    "    'water_resistance',\n",
    "    'case_thickness',\n",
    "    'crystal',\n",
    "    'hands',\n",
    "    'dial_markers'\n",
    "]\n",
    "\n",
    "# Lấy ra subset\n",
    "df_sub = df[cols].copy()\n",
    "print(df_sub.columns)\n",
    "df = df_sub.copy()\n",
    "df.to_csv('../data/cleaned_products.csv', index=False)"
   ]
  },
  {
   "cell_type": "code",
   "execution_count": null,
   "id": "05d7b1af",
   "metadata": {},
   "outputs": [
    {
     "data": {
      "application/vnd.microsoft.datawrangler.viewer.v0+json": {
       "columns": [
        {
         "name": "index",
         "rawType": "int64",
         "type": "integer"
        },
        {
         "name": "price",
         "rawType": "float64",
         "type": "float"
        },
        {
         "name": "case_material",
         "rawType": "object",
         "type": "string"
        },
        {
         "name": "band_material",
         "rawType": "object",
         "type": "string"
        },
        {
         "name": "case_back",
         "rawType": "object",
         "type": "unknown"
        },
        {
         "name": "bezel_material",
         "rawType": "object",
         "type": "string"
        },
        {
         "name": "brand",
         "rawType": "object",
         "type": "string"
        },
        {
         "name": "gender",
         "rawType": "object",
         "type": "string"
        },
        {
         "name": "movement",
         "rawType": "object",
         "type": "string"
        },
        {
         "name": "watch_style",
         "rawType": "object",
         "type": "string"
        },
        {
         "name": "case_diameter",
         "rawType": "object",
         "type": "string"
        },
        {
         "name": "water_resistance",
         "rawType": "object",
         "type": "unknown"
        },
        {
         "name": "case_thickness",
         "rawType": "object",
         "type": "unknown"
        },
        {
         "name": "crystal",
         "rawType": "object",
         "type": "unknown"
        },
        {
         "name": "hands",
         "rawType": "object",
         "type": "string"
        },
        {
         "name": "dial_markers",
         "rawType": "object",
         "type": "string"
        }
       ],
       "ref": "d9b86fa7-e485-4cac-a5ae-b5970f10e453",
       "rows": [
        [
         "0",
         "534.0",
         "Stainless Steel",
         "Stainless Steel",
         "Transparent",
         "Stainless Steel",
         "Tissot",
         "Mens",
         "Automatic",
         "Casual",
         "40 mm",
         "100 meters / 330 feet",
         "10.9 mm",
         "Scratch Resistant Sapphire",
         "Luminous Silver-tone",
         "Index"
        ],
        [
         "1",
         "534.0",
         "Stainless Steel",
         "Stainless Steel",
         "Transparent",
         "Stainless Steel",
         "Tissot",
         "Mens",
         "Automatic",
         "Casual",
         "40 mm",
         "100 meters / 330 feet",
         "10.9 mm",
         "Scratch Resistant Sapphire",
         "Luminous Silver-tone",
         "Index"
        ],
        [
         "2",
         "27750.0",
         "Titanium",
         "Titanium",
         null,
         "Titanium",
         "Audemars Piguet",
         "Mens",
         "Automatic",
         "Luxury",
         "44 mm",
         null,
         null,
         "Scratch Resistant Sapphire",
         "Luminous",
         "Index and Arabic numeral"
        ],
        [
         "3",
         "88.0",
         "Alloy",
         "Leather",
         null,
         "Alloy",
         "Stuhrling Original",
         "Mens",
         "Quartz",
         "Casual",
         "42 mm",
         null,
         "14 mm",
         null,
         "Silver-tone",
         "Arabic Numeral"
        ],
        [
         "4",
         "9318.0",
         "Stainless Steel",
         "Stainless Steel Oyster",
         "Solid",
         "Stainless Steel",
         "Rolex",
         "Mens",
         "Automatic",
         "Luxury",
         "40 mm",
         "100 meters / 330 feet",
         "12 mm",
         "Scratch Resistant Sapphire",
         "Silver-tone",
         "Index"
        ]
       ],
       "shape": {
        "columns": 15,
        "rows": 5
       }
      },
      "text/html": [
       "<div>\n",
       "<style scoped>\n",
       "    .dataframe tbody tr th:only-of-type {\n",
       "        vertical-align: middle;\n",
       "    }\n",
       "\n",
       "    .dataframe tbody tr th {\n",
       "        vertical-align: top;\n",
       "    }\n",
       "\n",
       "    .dataframe thead th {\n",
       "        text-align: right;\n",
       "    }\n",
       "</style>\n",
       "<table border=\"1\" class=\"dataframe\">\n",
       "  <thead>\n",
       "    <tr style=\"text-align: right;\">\n",
       "      <th></th>\n",
       "      <th>price</th>\n",
       "      <th>case_material</th>\n",
       "      <th>band_material</th>\n",
       "      <th>case_back</th>\n",
       "      <th>bezel_material</th>\n",
       "      <th>brand</th>\n",
       "      <th>gender</th>\n",
       "      <th>movement</th>\n",
       "      <th>watch_style</th>\n",
       "      <th>case_diameter</th>\n",
       "      <th>water_resistance</th>\n",
       "      <th>case_thickness</th>\n",
       "      <th>crystal</th>\n",
       "      <th>hands</th>\n",
       "      <th>dial_markers</th>\n",
       "    </tr>\n",
       "  </thead>\n",
       "  <tbody>\n",
       "    <tr>\n",
       "      <th>0</th>\n",
       "      <td>534.0</td>\n",
       "      <td>Stainless Steel</td>\n",
       "      <td>Stainless Steel</td>\n",
       "      <td>Transparent</td>\n",
       "      <td>Stainless Steel</td>\n",
       "      <td>Tissot</td>\n",
       "      <td>Mens</td>\n",
       "      <td>Automatic</td>\n",
       "      <td>Casual</td>\n",
       "      <td>40 mm</td>\n",
       "      <td>100 meters / 330 feet</td>\n",
       "      <td>10.9 mm</td>\n",
       "      <td>Scratch Resistant Sapphire</td>\n",
       "      <td>Luminous Silver-tone</td>\n",
       "      <td>Index</td>\n",
       "    </tr>\n",
       "    <tr>\n",
       "      <th>1</th>\n",
       "      <td>534.0</td>\n",
       "      <td>Stainless Steel</td>\n",
       "      <td>Stainless Steel</td>\n",
       "      <td>Transparent</td>\n",
       "      <td>Stainless Steel</td>\n",
       "      <td>Tissot</td>\n",
       "      <td>Mens</td>\n",
       "      <td>Automatic</td>\n",
       "      <td>Casual</td>\n",
       "      <td>40 mm</td>\n",
       "      <td>100 meters / 330 feet</td>\n",
       "      <td>10.9 mm</td>\n",
       "      <td>Scratch Resistant Sapphire</td>\n",
       "      <td>Luminous Silver-tone</td>\n",
       "      <td>Index</td>\n",
       "    </tr>\n",
       "    <tr>\n",
       "      <th>2</th>\n",
       "      <td>27750.0</td>\n",
       "      <td>Titanium</td>\n",
       "      <td>Titanium</td>\n",
       "      <td>NaN</td>\n",
       "      <td>Titanium</td>\n",
       "      <td>Audemars Piguet</td>\n",
       "      <td>Mens</td>\n",
       "      <td>Automatic</td>\n",
       "      <td>Luxury</td>\n",
       "      <td>44 mm</td>\n",
       "      <td>NaN</td>\n",
       "      <td>NaN</td>\n",
       "      <td>Scratch Resistant Sapphire</td>\n",
       "      <td>Luminous</td>\n",
       "      <td>Index and Arabic numeral</td>\n",
       "    </tr>\n",
       "    <tr>\n",
       "      <th>3</th>\n",
       "      <td>88.0</td>\n",
       "      <td>Alloy</td>\n",
       "      <td>Leather</td>\n",
       "      <td>NaN</td>\n",
       "      <td>Alloy</td>\n",
       "      <td>Stuhrling Original</td>\n",
       "      <td>Mens</td>\n",
       "      <td>Quartz</td>\n",
       "      <td>Casual</td>\n",
       "      <td>42 mm</td>\n",
       "      <td>NaN</td>\n",
       "      <td>14 mm</td>\n",
       "      <td>NaN</td>\n",
       "      <td>Silver-tone</td>\n",
       "      <td>Arabic Numeral</td>\n",
       "    </tr>\n",
       "    <tr>\n",
       "      <th>4</th>\n",
       "      <td>9318.0</td>\n",
       "      <td>Stainless Steel</td>\n",
       "      <td>Stainless Steel Oyster</td>\n",
       "      <td>Solid</td>\n",
       "      <td>Stainless Steel</td>\n",
       "      <td>Rolex</td>\n",
       "      <td>Mens</td>\n",
       "      <td>Automatic</td>\n",
       "      <td>Luxury</td>\n",
       "      <td>40 mm</td>\n",
       "      <td>100 meters / 330 feet</td>\n",
       "      <td>12 mm</td>\n",
       "      <td>Scratch Resistant Sapphire</td>\n",
       "      <td>Silver-tone</td>\n",
       "      <td>Index</td>\n",
       "    </tr>\n",
       "  </tbody>\n",
       "</table>\n",
       "</div>"
      ],
      "text/plain": [
       "     price    case_material           band_material    case_back  \\\n",
       "0    534.0  Stainless Steel         Stainless Steel  Transparent   \n",
       "1    534.0  Stainless Steel         Stainless Steel  Transparent   \n",
       "2  27750.0         Titanium                Titanium          NaN   \n",
       "3     88.0            Alloy                 Leather          NaN   \n",
       "4   9318.0  Stainless Steel  Stainless Steel Oyster        Solid   \n",
       "\n",
       "    bezel_material               brand gender   movement watch_style  \\\n",
       "0  Stainless Steel              Tissot   Mens  Automatic      Casual   \n",
       "1  Stainless Steel              Tissot   Mens  Automatic      Casual   \n",
       "2         Titanium     Audemars Piguet   Mens  Automatic      Luxury   \n",
       "3            Alloy  Stuhrling Original   Mens     Quartz      Casual   \n",
       "4  Stainless Steel               Rolex   Mens  Automatic      Luxury   \n",
       "\n",
       "  case_diameter       water_resistance case_thickness  \\\n",
       "0         40 mm  100 meters / 330 feet        10.9 mm   \n",
       "1         40 mm  100 meters / 330 feet        10.9 mm   \n",
       "2         44 mm                    NaN            NaN   \n",
       "3         42 mm                    NaN          14 mm   \n",
       "4         40 mm  100 meters / 330 feet          12 mm   \n",
       "\n",
       "                      crystal                 hands              dial_markers  \n",
       "0  Scratch Resistant Sapphire  Luminous Silver-tone                     Index  \n",
       "1  Scratch Resistant Sapphire  Luminous Silver-tone                     Index  \n",
       "2  Scratch Resistant Sapphire              Luminous  Index and Arabic numeral  \n",
       "3                         NaN           Silver-tone            Arabic Numeral  \n",
       "4  Scratch Resistant Sapphire           Silver-tone                     Index  "
      ]
     },
     "execution_count": 15,
     "metadata": {},
     "output_type": "execute_result"
    }
   ],
   "source": [
    "# Standardize price column, remove all record that missing price\n",
    "df = df[df['price'].notna() & (df['price'].astype(str).str.strip() != '')].copy()\n",
    "df['price'] = (\n",
    "    df['price']\n",
    "    .astype(str)\n",
    "    .str.extract(r'([\\d,]+\\.?\\d*)')[0]\n",
    ")\n",
    "df = df[df['price'].notna()].copy()\n",
    "df['price'] = df['price'].str.replace(',', '').astype(float)\n",
    "df.head()"
   ]
  },
  {
   "cell_type": "code",
   "execution_count": null,
   "id": "ed5b1e25",
   "metadata": {},
   "outputs": [
    {
     "name": "stdout",
     "output_type": "stream",
     "text": [
      "Shape of the data after cleaning: (9272, 15)\n"
     ]
    }
   ],
   "source": [
    "# Check the shape of the data after cleaning\n",
    "print(f\"Shape of the data after cleaning: {df.shape}\")"
   ]
  },
  {
   "cell_type": "code",
   "execution_count": null,
   "id": "081d04f0",
   "metadata": {},
   "outputs": [],
   "source": [
    "# Save cleaned data to a new csv file\n",
    "df.to_csv('../data/data_cleaned_v2.csv', index=False)"
   ]
  },
  {
   "cell_type": "markdown",
   "id": "9375af1a",
   "metadata": {},
   "source": [
    "## Remove all columns that only have one unique value\n"
   ]
  },
  {
   "cell_type": "code",
   "execution_count": null,
   "id": "1ea212e4",
   "metadata": {},
   "outputs": [
    {
     "name": "stdout",
     "output_type": "stream",
     "text": [
      "Unique values in each column:\n",
      "price               3991\n",
      "case_material        362\n",
      "band_material        703\n",
      "case_back             56\n",
      "bezel_material       761\n",
      "brand                200\n",
      "gender                 3\n",
      "movement               4\n",
      "watch_style            9\n",
      "case_diameter         50\n",
      "water_resistance      64\n",
      "case_thickness       478\n",
      "crystal               85\n",
      "hands                530\n",
      "dial_markers         328\n",
      "dtype: int64\n"
     ]
    }
   ],
   "source": [
    "# Print unique values in each column\n",
    "unique_counts = df.nunique()\n",
    "print(\"Unique values in each column:\")\n",
    "print(unique_counts)"
   ]
  },
  {
   "cell_type": "code",
   "execution_count": null,
   "id": "408fd16c",
   "metadata": {},
   "outputs": [
    {
     "name": "stdout",
     "output_type": "stream",
     "text": [
      "Shape of the data after removing single unique value columns: (9272, 15)\n"
     ]
    }
   ],
   "source": [
    "# Remove all columns that only have one unique value\n",
    "df = df.loc[:, df.nunique() > 1]\n",
    "print(f\"Shape of the data after removing single unique value columns: {df.shape}\")\n",
    "df.to_csv('../data/data_cleaned.csv', index=False)"
   ]
  },
  {
   "cell_type": "markdown",
   "id": "406f0fa7",
   "metadata": {},
   "source": [
    "## Standardize Unit\n"
   ]
  },
  {
   "cell_type": "code",
   "execution_count": null,
   "id": "09c58dcf",
   "metadata": {},
   "outputs": [
    {
     "name": "stdout",
     "output_type": "stream",
     "text": [
      "   case_diameter  water_resistance\n",
      "0           40.0             100.0\n",
      "1           40.0             100.0\n",
      "2           44.0               NaN\n",
      "3           42.0               NaN\n",
      "4           40.0             100.0\n"
     ]
    }
   ],
   "source": [
    "df = pd.read_csv('../data/data_cleaned.csv')\n",
    "# Standardize Unit and remove all unit\n",
    "cols_with_units = {\n",
    "    'case_diameter': r'([\\d\\.]+)',                     # mm\n",
    "    'water_resistance': r'([\\d\\.]+)',                  # meters\n",
    "}\n",
    "\n",
    "for col, regex in cols_with_units.items():\n",
    "    # 1) Extract chuỗi số phù hợp\n",
    "    df[col + '_num'] = df[col].astype(str).str.extract(regex)[0]\n",
    "    \n",
    "    # 2) Loại dấu phẩy (nếu có) rồi ép về float\n",
    "    df[col + '_num'] = df[col + '_num'].str.replace(',', '').astype(float)\n",
    "\n",
    "for col in list(cols_with_units):\n",
    "    df = df.drop(columns=[col]).rename(columns={col + '_num': col})\n",
    "\n",
    "# Kiểm tra kết quả\n",
    "print(df[['case_diameter', 'water_resistance']].head())"
   ]
  },
  {
   "cell_type": "code",
   "execution_count": null,
   "id": "77affcb8",
   "metadata": {},
   "outputs": [],
   "source": [
    "df.to_csv('../data/data_cleaned.csv', index=False)"
   ]
  },
  {
   "cell_type": "code",
   "execution_count": null,
   "id": "17db9fdd",
   "metadata": {},
   "outputs": [
    {
     "name": "stdout",
     "output_type": "stream",
     "text": [
      "Numeric columns:\n",
      "['price', 'case_diameter', 'water_resistance']\n",
      "Outlier summary:\n",
      "             column        Q1       Q3         IQR  lower_bound  upper_bound  \\\n",
      "0             price  243.8125  13250.0  13006.1875 -19265.46875  32759.28125   \n",
      "1     case_diameter   34.0000     42.0      8.0000     22.00000     54.00000   \n",
      "2  water_resistance   30.0000    100.0     70.0000    -75.00000    205.00000   \n",
      "\n",
      "   outliers_count  \n",
      "0            1103  \n",
      "1             114  \n",
      "2             565  \n"
     ]
    },
    {
     "name": "stderr",
     "output_type": "stream",
     "text": [
      "<>:5: SyntaxWarning: invalid escape sequence '\\d'\n",
      "<>:5: SyntaxWarning: invalid escape sequence '\\d'\n",
      "C:\\Users\\vulin\\AppData\\Local\\Temp\\ipykernel_2268\\1073002433.py:5: SyntaxWarning: invalid escape sequence '\\d'\n",
      "  - unit_regex_map: dict mapping tên cột -> regex để extract số (ví dụ r'([\\d\\.]+)' cho '10.9 mm').\n"
     ]
    }
   ],
   "source": [
    "# Check outliers in the all columns\n",
    "def detect_outliers_iqr(df, unit_regex_map=None, multiplier=1.5):\n",
    "    \"\"\"\n",
    "    Phát hiện outlier theo phương pháp IQR trên tất cả cột số:\n",
    "    - unit_regex_map: dict mapping tên cột -> regex để extract số (ví dụ r'([\\d\\.]+)' cho '10.9 mm').\n",
    "    - multiplier: hệ số nhân IQR (thường dùng 1.5).\n",
    "    Trả về DataFrame summary với Q1, Q3, IQR, bounds và số outlier.\n",
    "    \"\"\"\n",
    "    df_clean = df.copy()\n",
    "    \n",
    "    # 1. Nếu có map cột chứa đơn vị, extract và ép float\n",
    "    if unit_regex_map:\n",
    "        for col, regex in unit_regex_map.items():\n",
    "            df_clean[col] = (\n",
    "                df_clean[col].astype(str)\n",
    "                .str.extract(regex)[0]             # lấy nhóm số\n",
    "                .str.replace(',', '')              # bỏ dấu phẩy nếu có\n",
    "            )\n",
    "            df_clean[col] = pd.to_numeric(df_clean[col], errors='coerce')\n",
    "    \n",
    "    # 2. Tự động chọn cột số\n",
    "    num_cols = df_clean.select_dtypes(include=['number']).columns\n",
    "    \n",
    "    # 3. Tính IQR và đếm outliers\n",
    "    summary = []\n",
    "    for col in num_cols:\n",
    "        series = df_clean[col].dropna()\n",
    "        q1 = series.quantile(0.25)\n",
    "        q3 = series.quantile(0.75)\n",
    "        iqr = q3 - q1\n",
    "        lower, upper = q1 - multiplier * iqr, q3 + multiplier * iqr\n",
    "        outlier_count = series[(series < lower) | (series > upper)].shape[0]\n",
    "        \n",
    "        summary.append({\n",
    "            'column': col,\n",
    "            'Q1': q1,\n",
    "            'Q3': q3,\n",
    "            'IQR': iqr,\n",
    "            'lower_bound': lower,\n",
    "            'upper_bound': upper,\n",
    "            'outliers_count': outlier_count\n",
    "        })\n",
    "    \n",
    "    return pd.DataFrame(summary)\n",
    "\n",
    "# Check outliers in the all numeric columns\n",
    "num_cols = df.select_dtypes(include=['number']).columns\n",
    "print(\"Numeric columns:\")\n",
    "print(num_cols.tolist())\n",
    "\n",
    "# Check outliers from num_cols\n",
    "unit_regex_map = {\n",
    "    'case_diameter': r'([\\d\\.]+)',                     # mm\n",
    "    'water_resistance': r'([\\d\\.]+)',                  # m\n",
    "}\n",
    "outlier_summary = detect_outliers_iqr(df, unit_regex_map=unit_regex_map)\n",
    "print(\"Outlier summary:\")\n",
    "print(outlier_summary)"
   ]
  },
  {
   "cell_type": "markdown",
   "id": "02573b64",
   "metadata": {},
   "source": [
    "# Encode Categorical Variables\n"
   ]
  },
  {
   "cell_type": "code",
   "execution_count": null,
   "id": "fdc17be4",
   "metadata": {},
   "outputs": [
    {
     "name": "stdout",
     "output_type": "stream",
     "text": [
      "Tổng dòng: 9272, Có phân khúc: 9272, Không gán phân khúc: 0\n"
     ]
    }
   ],
   "source": [
    "total_rows = len(df)\n",
    "non_missing = df['price_segment'].notna().sum()\n",
    "missing = df['price_segment'].isna().sum()\n",
    "print(f\"Tổng dòng: {total_rows}, Có phân khúc: {non_missing}, Không gán phân khúc: {missing}\")\n"
   ]
  },
  {
   "cell_type": "code",
   "execution_count": null,
   "id": "4cb4d162",
   "metadata": {},
   "outputs": [
    {
     "name": "stderr",
     "output_type": "stream",
     "text": [
      "C:\\Users\\vulin\\AppData\\Local\\Temp\\ipykernel_2268\\4144996310.py:48: UserWarning: No artists with labels found to put in legend.  Note that artists whose label start with an underscore are ignored when legend() is called with no argument.\n",
      "  plt.legend(title='Segment', bbox_to_anchor=(1.05, 1), loc='upper left')\n"
     ]
    },
    {
     "data": {
      "image/png": "[encoded data removed]",
      "text/plain": [
       "<Figure size 800x500 with 1 Axes>"
      ]
     },
     "metadata": {},
     "output_type": "display_data"
    },
    {
     "name": "stderr",
     "output_type": "stream",
     "text": [
      "C:\\Users\\vulin\\AppData\\Local\\Temp\\ipykernel_2268\\4144996310.py:54: FutureWarning: \n",
      "\n",
      "Passing `palette` without assigning `hue` is deprecated and will be removed in v0.14.0. Assign the `x` variable to `hue` and set `legend=False` for the same effect.\n",
      "\n",
      "  sns.boxplot(\n"
     ]
    },
    {
     "data": {
      "image/png": "[encoded data removed]",
      "text/plain": [
       "<Figure size 900x500 with 1 Axes>"
      ]
     },
     "metadata": {},
     "output_type": "display_data"
    },
    {
     "name": "stderr",
     "output_type": "stream",
     "text": [
      "C:\\Users\\vulin\\AppData\\Local\\Temp\\ipykernel_2268\\4144996310.py:71: FutureWarning: \n",
      "\n",
      "Passing `palette` without assigning `hue` is deprecated and will be removed in v0.14.0. Assign the `x` variable to `hue` and set `legend=False` for the same effect.\n",
      "\n",
      "  sns.countplot(\n"
     ]
    },
    {
     "data": {
      "image/png": "[encoded data removed]",
      "text/plain": [
       "<Figure size 800x400 with 1 Axes>"
      ]
     },
     "metadata": {},
     "output_type": "display_data"
    },
    {
     "data": {
      "image/png": "[encoded data removed]",
      "text/plain": [
       "<Figure size 800x500 with 1 Axes>"
      ]
     },
     "metadata": {},
     "output_type": "display_data"
    },
    {
     "name": "stdout",
     "output_type": "stream",
     "text": [
      "Khoảng giá thực tế (VND) cho mỗi phân khúc:\n",
      "                          min        max\n",
      "price_segment_logkm                     \n",
      "1. Low                  23.40      272.0\n",
      "2. Medium              273.76     1580.0\n",
      "3. High               1584.00     8510.0\n",
      "4. Ultra High         8535.00    44865.0\n",
      "5. Luxury            44950.00  6267500.0\n"
     ]
    }
   ],
   "source": [
    "import pandas as pd\n",
    "import matplotlib.pyplot as plt\n",
    "import seaborn as sns\n",
    "from sklearn.cluster import KMeans\n",
    "import numpy as np\n",
    "\n",
    "# 1. Đọc dữ liệu\n",
    "df = pd.read_csv('../data/data_cleaned.csv')\n",
    "\n",
    "# 2. Log-transform để làm mềm phân phối\n",
    "#    log1p để tránh log(0) nếu có giá = 0\n",
    "df['log_price'] = np.log1p(df['price'])\n",
    "\n",
    "# 3. Phân cụm KMeans trên log_price\n",
    "kmeans = KMeans(n_clusters=5, random_state=42, n_init='auto')\n",
    "df['cluster_log'] = kmeans.fit_predict(df[['log_price']])\n",
    "\n",
    "# 4. Tính log_price trung bình mỗi cluster rồi sắp xếp tăng dần\n",
    "cluster_log_means = df.groupby('cluster_log')['log_price'].mean().sort_values()\n",
    "\n",
    "# 5. Tạo nhãn có số thứ tự\n",
    "labels = ['1. Low', '2. Medium', '3. High', '4. Ultra High', '5. Luxury']\n",
    "cluster_log_map = {cluster: label for cluster, label in zip(cluster_log_means.index, labels)}\n",
    "\n",
    "# 6. Ánh xạ cluster thành nhãn phân khúc có số\n",
    "df['price_segment_logkm'] = df['cluster_log'].map(cluster_log_map)\n",
    "\n",
    "# 7. Chuẩn bị thứ tự hiển thị trên biểu đồ\n",
    "order_logkm = labels\n",
    "\n",
    "# 8. Vẽ biểu đồ\n",
    "\n",
    "# 8.1 Histogram (trục log)\n",
    "plt.figure(figsize=(8, 5))\n",
    "sns.histplot(\n",
    "    data=df,\n",
    "    x='price',\n",
    "    hue='price_segment_logkm',\n",
    "    bins=30,\n",
    "    palette='tab10',\n",
    "    multiple='stack',\n",
    "    hue_order=order_logkm\n",
    ")\n",
    "plt.xscale('log')\n",
    "plt.title(\"Phân phối giá theo 5 phân khúc (Histogram trên trục log)\")\n",
    "plt.xlabel(\"price (VND, log scale)\")\n",
    "plt.ylabel(\"Count\")\n",
    "plt.legend(title='Segment', bbox_to_anchor=(1.05, 1), loc='upper left')\n",
    "plt.tight_layout()\n",
    "plt.show()\n",
    "\n",
    "# 8.2 Boxplot (trục log)\n",
    "plt.figure(figsize=(9, 5))\n",
    "sns.boxplot(\n",
    "    data=df,\n",
    "    x='price_segment_logkm',\n",
    "    y='price',\n",
    "    order=order_logkm,\n",
    "    palette='Set3'\n",
    ")\n",
    "plt.yscale('log')\n",
    "plt.title(\"Boxplot giá theo 5 phân khúc (trục y log)\")\n",
    "plt.xlabel(\"price Segment\")\n",
    "plt.ylabel(\"price (VND, log scale)\")\n",
    "plt.xticks(rotation=30)\n",
    "plt.tight_layout()\n",
    "plt.show()\n",
    "\n",
    "# 8.3 Countplot (vẫn bình thường)\n",
    "plt.figure(figsize=(8, 4))\n",
    "sns.countplot(\n",
    "    data=df,\n",
    "    x='price_segment_logkm',\n",
    "    order=order_logkm,\n",
    "    palette='pastel'\n",
    ")\n",
    "plt.title(\"Số lượng sản phẩm theo 5 phân khúc\")\n",
    "plt.xlabel(\"price Segment\")\n",
    "plt.ylabel(\"Count\")\n",
    "plt.xticks(rotation=30)\n",
    "plt.tight_layout()\n",
    "plt.show()\n",
    "\n",
    "# 8.4 KDE Plot (trục log)\n",
    "plt.figure(figsize=(8, 5))\n",
    "for seg in order_logkm:\n",
    "    sns.kdeplot(\n",
    "        data=df[df['price_segment_logkm'] == seg]['price'],\n",
    "        label=seg,\n",
    "        fill=True\n",
    "    )\n",
    "plt.xscale('log')\n",
    "plt.title(\"Mật độ phân phối giá theo 5 phân khúc (KDE trên trục log)\")\n",
    "plt.xlabel(\"price (VND, log scale)\")\n",
    "plt.ylabel(\"Density\")\n",
    "plt.legend(title='Segment', bbox_to_anchor=(1.05, 1), loc='upper left')\n",
    "plt.tight_layout()\n",
    "plt.show()\n",
    "\n",
    "# 9. (Tuỳ chọn) In khoảng giá gốc min–max của mỗi phân khúc sau khi log-KMeans\n",
    "ranges = df.groupby('price_segment_logkm')['price'] \\\n",
    "           .agg(['min','max'])\n",
    "print(\"Khoảng giá thực tế (VND) cho mỗi phân khúc:\")\n",
    "print(ranges)\n"
   ]
  },
  {
   "cell_type": "code",
   "execution_count": null,
   "id": "327aa3c6",
   "metadata": {},
   "outputs": [
    {
     "name": "stdout",
     "output_type": "stream",
     "text": [
      "['Mens' 'Unisex' 'Womens' nan]\n",
      "gender\n",
      "Mens      22602.314475\n",
      "Unisex    28424.430143\n",
      "Womens    15175.937535\n",
      "Name: price, dtype: float64\n"
     ]
    }
   ],
   "source": [
    "import pandas as pd\n",
    "\n",
    "# Đọc dữ liệu\n",
    "df = pd.read_csv('../data/data_cleaned.csv')\n",
    "\n",
    "# Xem các giá trị duy nhất trong cột giới tính (để kiểm tra chính tả)\n",
    "print(df['gender'].unique())\n",
    "\n",
    "# Tính giá trung bình theo từng giới tính\n",
    "average_price_by_gender = df.groupby('gender')['price'].mean()\n",
    "\n",
    "# Hiển thị kết quả\n",
    "print(average_price_by_gender)"
   ]
  },
  {
   "cell_type": "code",
   "execution_count": null,
   "id": "273b4a7e",
   "metadata": {},
   "outputs": [
    {
     "name": "stdout",
     "output_type": "stream",
     "text": [
      "gender\n",
      "MENS      22602.314475\n",
      "UNISEX    28424.430143\n",
      "WOMENS    15175.937535\n",
      "Name: price, dtype: float64\n",
      "  gender  gender_encoded    price\n",
      "0   MENS    22602.314475    534.0\n",
      "1   MENS    22602.314475    534.0\n",
      "2   MENS    22602.314475  27750.0\n",
      "3   MENS    22602.314475     88.0\n",
      "4   MENS    22602.314475   9318.0\n"
     ]
    }
   ],
   "source": [
    "# Chuẩn hóa cột gender\n",
    "df['gender'] = df['gender'].str.strip().str.upper()\n",
    "\n",
    "# Tính giá trung bình theo từng giới tính\n",
    "gender_target_map = df.groupby('gender')['price'].mean()\n",
    "\n",
    "# In ra để kiểm tra\n",
    "print(gender_target_map)\n",
    "\n",
    "# Áp dụng target encoding\n",
    "df['gender_encoded'] = df['gender'].map(gender_target_map)\n",
    "\n",
    "# Kiểm tra kết quả\n",
    "print(df[['gender', 'gender_encoded', 'price']].head())"
   ]
  },
  {
   "cell_type": "code",
   "execution_count": null,
   "id": "8d059349",
   "metadata": {},
   "outputs": [
    {
     "name": "stdout",
     "output_type": "stream",
     "text": [
      "(9272, 16)\n"
     ]
    }
   ],
   "source": [
    "print(df.shape)"
   ]
  },
  {
   "cell_type": "code",
   "execution_count": null,
   "id": "907dc4b7",
   "metadata": {},
   "outputs": [],
   "source": [
    "df.to_csv('../data/data_cleaned.csv', index=False)"
   ]
  },
  {
   "cell_type": "code",
   "execution_count": null,
   "id": "01cfa0af",
   "metadata": {},
   "outputs": [
    {
     "name": "stdout",
     "output_type": "stream",
     "text": [
      "Case Material Target Map (sorted):\n",
      "case_material\n",
      "Baguette Diamond-Set 18kt White Gold                 1260040.00\n",
      "18kt White Gold set with 22 baguette-cut diamonds    1065360.00\n",
      "Diamond-Encrusted 18kt White Gold                     868645.00\n",
      "18kt White Gold with 182 pcs Baguette Diamonds        810750.00\n",
      "Carbon TPT                                            787750.00\n",
      "                                                        ...    \n",
      "Polished Finish Alloy                                     49.99\n",
      "Stainless Steel set with Swarovski Crystals               46.86\n",
      "(Translucent) Plastic                                     45.50\n",
      "Black Velvet-covered Stainless Steel                      44.80\n",
      "Pink Velvet-covered Stainless Steel                       44.80\n",
      "Name: price, Length: 362, dtype: float64\n"
     ]
    }
   ],
   "source": [
    "# Encoding Case Material\n",
    "case_material_target_map = df.groupby('case_material')['price'].mean()\n",
    "\n",
    "# In ra phiên bản sort của case_material_target_map\n",
    "case_material_target_map_sorted = case_material_target_map.sort_values(ascending=False)\n",
    "print(\"Case Material Target Map (sorted):\")\n",
    "print(case_material_target_map_sorted)"
   ]
  },
  {
   "cell_type": "code",
   "execution_count": null,
   "id": "f5f36ae3",
   "metadata": {},
   "outputs": [
    {
     "name": "stdout",
     "output_type": "stream",
     "text": [
      "Case Material Target Encoding Applied:\n",
      "     case_material  case_material_encoded    price\n",
      "0  Stainless Steel            4311.533021    534.0\n",
      "1  Stainless Steel            4311.533021    534.0\n",
      "2         Titanium           49962.313106  27750.0\n",
      "3            Alloy             110.988151     88.0\n",
      "4  Stainless Steel            4311.533021   9318.0\n"
     ]
    }
   ],
   "source": [
    "# Áp dung target encoding cho CASE_MATERIAL\n",
    "df['case_material_encoded'] = df['case_material'].map(case_material_target_map)\n",
    "print(\"Case Material Target Encoding Applied:\")\n",
    "print(df[['case_material', 'case_material_encoded', 'price']].head())"
   ]
  },
  {
   "cell_type": "code",
   "execution_count": null,
   "id": "96f8e006",
   "metadata": {},
   "outputs": [
    {
     "name": "stdout",
     "output_type": "stream",
     "text": [
      "First 20 rows of case_thickness after extraction and conversion:\n",
      "0     10.9\n",
      "1     10.9\n",
      "2      NaN\n",
      "3     14.0\n",
      "4     12.0\n",
      "5      NaN\n",
      "6      NaN\n",
      "7      8.5\n",
      "8     14.4\n",
      "9      NaN\n",
      "10     NaN\n",
      "11     NaN\n",
      "12     NaN\n",
      "13     NaN\n",
      "14     NaN\n",
      "15    16.0\n",
      "16     9.0\n",
      "17     NaN\n",
      "18     NaN\n",
      "19    12.0\n",
      "Name: case_thickness, dtype: float64\n",
      "First 20 rows of case_thickness after filling missing values with mean:\n",
      "0     10.900000\n",
      "1     10.900000\n",
      "2     11.196182\n",
      "3     14.000000\n",
      "4     12.000000\n",
      "5     11.196182\n",
      "6     11.196182\n",
      "7      8.500000\n",
      "8     14.400000\n",
      "9     11.196182\n",
      "10    11.196182\n",
      "11    11.196182\n",
      "12    11.196182\n",
      "13    11.196182\n",
      "14    11.196182\n",
      "15    16.000000\n",
      "16     9.000000\n",
      "17    11.196182\n",
      "18    11.196182\n",
      "19    12.000000\n",
      "Name: case_thickness, dtype: float64\n"
     ]
    }
   ],
   "source": [
    "# Get float values from case_thickness ignoring units\n",
    "case_thickness_regex = r'([\\d\\.]+)'  # Regex để lấy số thực\n",
    "df['case_thickness'] = df['case_thickness'].astype(str).str.extract(case_thickness_regex)[0]\n",
    "# Convert case_thickness to float, handling errors\n",
    "df['case_thickness'] = pd.to_numeric(df['case_thickness'], errors='coerce')\n",
    "# Kiểm tra 20 dòng đầu tiên\n",
    "print(\"First 20 rows of case_thickness after extraction and conversion:\")\n",
    "print(df['case_thickness'].head(20))\n",
    "\n",
    "# Case Thickness filled missing values with mean\n",
    "case_thickness_mean = df['case_thickness'].mean()\n",
    "df['case_thickness'] = df['case_thickness'].fillna(case_thickness_mean)\n",
    "# Kiểm tra 20 dòng đầu tiên sau khi điền giá trị trung bình\n",
    "print(\"First 20 rows of case_thickness after filling missing values with mean:\")\n",
    "print(df['case_thickness'].head(20))"
   ]
  },
  {
   "cell_type": "markdown",
   "id": "0927f5d3",
   "metadata": {},
   "source": [
    "Price\n",
    "Giá bán (hoặc niêm yết) của đồng hồ, thường là giá thực tế bạn muốn dự đoán hoặc phân khúc.\n",
    "\n",
    "CASE_MATERIAL\n",
    "Vật liệu chế tác vỏ đồng hồ (case). Ví dụ: Thép không gỉ, Titanium, Vàng, Gốm ceramic, Đồng (Bronze)…\n",
    "\n",
    "Band Material\n",
    "Vật liệu dây đeo (strap/bracelet). Ví dụ: Da, Cao su (Rubber), Thép không gỉ, Nylon (NATO), Silicone…\n",
    "\n",
    "Case Back\n",
    "Kiểu lưng vỏ đồng hồ:\n",
    "\n",
    "“Solid” (đặc)\n",
    "\n",
    "“Exhibition” (kính trong, lộ máy)\n",
    "\n",
    "“Screw-down” (vặn vít)\n",
    "\n",
    "“Snap-on” (bấm)\n",
    "\n",
    "BEZEL MATERIAL\n",
    "Vật liệu vành bezel (vành xoay hoặc cố định) quanh mặt kính. Ví dụ: Nhôm, Gốm ceramic, Thép không gỉ, Vàng…\n",
    "\n",
    "BRAND\n",
    "Thương hiệu (Rolex, Omega, Seiko, Casio…). Yếu tố quan trọng quyết định phần lớn giá trị và uy tín.\n",
    "\n",
    "GENDERS\n",
    "Đối tượng hướng tới: “Men’s” (nam), “Women’s” (nữ) hoặc “Unisex” (cả hai).\n",
    "\n",
    "MOVEMENT\n",
    "Loại máy bên trong:\n",
    "\n",
    "Quartz (pin)\n",
    "\n",
    "Automatic (tự động lên dây)\n",
    "\n",
    "Manual (lên dây tay)\n",
    "\n",
    "Solar (năng lượng mặt trời)\n",
    "\n",
    "Kinetic (cơ – điện)…\n",
    "\n",
    "WATCH STYLE\n",
    "Phong cách thiết kế: Diver (lặn), Dress (formal), Chronograph (bấm giờ), Pilot (phi công), Field (đồng hồ quân đội), Smartwatch, Skeleton (lộ máy)…\n",
    "\n",
    "CASE DIAMETER\n",
    "Đường kính vỏ đồng hồ (tính qua mặt số) tính bằng millimeter (mm).\n",
    "\n",
    "WATER RESISTANCE\n",
    "Khả năng chịu nước, thường thể hiện bằng mét (m) hoặc ATM (atmospheres). Ví dụ: 30 m, 100 m, 300 m…\n",
    "\n",
    "CASE THICKNESS\n",
    "Độ dày vỏ (từ đáy đến mặt kính) tính bằng millimeter (mm).\n"
   ]
  },
  {
   "cell_type": "code",
   "execution_count": null,
   "id": "5f5ef323",
   "metadata": {},
   "outputs": [],
   "source": [
    "df.to_csv('../data/data_cleaned.csv', index=False)"
   ]
  },
  {
   "cell_type": "code",
   "execution_count": null,
   "id": "c9da0679",
   "metadata": {},
   "outputs": [],
   "source": [
    "df = pd.read_csv('../data/data_cleaned.csv')"
   ]
  },
  {
   "cell_type": "code",
   "execution_count": null,
   "id": "9fa672bb",
   "metadata": {},
   "outputs": [],
   "source": [
    "# Filled missing values of water_resistance with \n",
    "water_resistance_mean = df['water_resistance'].mean()\n",
    "water_resistance_std = df['water_resistance'].std()\n",
    "df['water_resistance'] = df['water_resistance'].fillna(water_resistance_mean)"
   ]
  },
  {
   "cell_type": "code",
   "execution_count": null,
   "id": "9b05132c",
   "metadata": {},
   "outputs": [],
   "source": [
    "# Filled Case Diameter with mean\n",
    "case_diameter_mean = df['case_diameter'].mean()\n",
    "df['case_diameter'] = df['case_diameter'].fillna(case_diameter_mean)"
   ]
  },
  {
   "cell_type": "code",
   "execution_count": null,
   "id": "279603d7",
   "metadata": {},
   "outputs": [
    {
     "name": "stdout",
     "output_type": "stream",
     "text": [
      "Case Back Statistics:\n",
      "                                                          min         max  \\\n",
      "case_back                                                                   \n",
      "Transparent sapphire                                627125.00   627125.00   \n",
      "Skeleton Transparent                                  9055.00   776440.00   \n",
      "Sapphire Crystal Display                              7715.00   245810.00   \n",
      "Transparent Sapphire Glass                          111260.00   111260.00   \n",
      "Skeleton                                                76.99  1084165.00   \n",
      "Exhibition See Through                               20555.00   262775.00   \n",
      "Sapphire-crystal case back                           99525.00    99525.00   \n",
      "Sapphire-crystal                                     67730.00   113275.00   \n",
      "Skeleton Transparent Exhibition See Through            724.99   613410.00   \n",
      "Transparent (See Through)                             5795.00   186525.00   \n",
      "Interchangeable                                      51500.00    51500.00   \n",
      "Sapphire Crystal protected by an invisibly-hing...   42725.00    42725.00   \n",
      "Transparent See Through                                 73.99  1374250.00   \n",
      "Transparent, sapphire crystal                        35165.00    35165.00   \n",
      "Transparent Sapphire                                  2125.00   176985.00   \n",
      "Sapphire Crystal                                     27500.00    28512.00   \n",
      "See Through                                           6450.00    39615.00   \n",
      "Transparent Exhibition Display                       26023.00    26023.00   \n",
      "Exhibition                                            1615.85    53360.00   \n",
      "Solid, Screw Down                                    18395.00    18395.00   \n",
      "sapphire                                             17450.00    17450.00   \n",
      "Screw-down                                            7875.00   119950.00   \n",
      "Transparent Exhibition                               15350.00    15350.00   \n",
      "Transparent                                             55.00  1782500.00   \n",
      "Transparent Exhibition See Through                    5495.00    21955.00   \n",
      "Solid                                                   23.40  1551425.00   \n",
      "Sapphire Crystal Skeleton                             5995.00    14315.00   \n",
      "Titanium                                               399.00    13550.00   \n",
      "Transparent S                                         7350.00     7350.00   \n",
      "Screw Down                                              39.99    59250.00   \n",
      "18K Rose Gold, Solid, secured via 8 gold screws       5245.00     5245.00   \n",
      "Sapphire Crystal Exhibition                           3995.00     3995.00   \n",
      "Sapphire                                               775.00     8105.00   \n",
      "Solid Engraved                                        3600.00     3600.00   \n",
      "Translucent                                             45.50    14315.00   \n",
      "Stainless steel, Screw, See Through mineral glass     2384.00     2384.00   \n",
      "Screw In                                               244.99    18130.00   \n",
      "Transparent Screw Down                                1810.00     1810.00   \n",
      "Transparen                                            1790.00     1790.00   \n",
      "Guilloche with Sapphire Window                        1649.00     1649.00   \n",
      "Hinged Solid                                          1495.00     1495.00   \n",
      "Stainless Steel                                         54.99     3540.00   \n",
      "Solid engraved with Fish Symbol and Diving Mask       1032.48     1032.48   \n",
      "Solid with a Skeletal Window                           719.00      719.00   \n",
      "Stainless steel, screw-down                            525.00      525.00   \n",
      "Skeleton Brooklyn Bridge etching                       299.99      299.99   \n",
      "Semi-Transparent                                       295.00      295.00   \n",
      "Screw in                                               234.99      234.99   \n",
      "Screw Down Solid                                       189.00      189.00   \n",
      "Semi Transparent                                       134.38      134.38   \n",
      "Hinged Caseback Cover of Vitreous Enamel               121.84      121.84   \n",
      "Transparent with a Stainless Steel Cover               121.84      121.84   \n",
      "Screw Down Skeleton                                     76.99       76.99   \n",
      "Solid Engraved with Bridge Logo                         49.00       79.99   \n",
      "Snap Down                                               44.99       91.99   \n",
      "Screw Down Stainless Steel                              49.99       49.99   \n",
      "\n",
      "                                                             mean  \\\n",
      "case_back                                                           \n",
      "Transparent sapphire                                627125.000000   \n",
      "Skeleton Transparent                                263358.333333   \n",
      "Sapphire Crystal Display                            150946.666667   \n",
      "Transparent Sapphire Glass                          111260.000000   \n",
      "Skeleton                                            105463.201759   \n",
      "Exhibition See Through                              102695.000000   \n",
      "Sapphire-crystal case back                           99525.000000   \n",
      "Sapphire-crystal                                     90502.500000   \n",
      "Skeleton Transparent Exhibition See Through          64278.710718   \n",
      "Transparent (See Through)                            54207.142857   \n",
      "Interchangeable                                      51500.000000   \n",
      "Sapphire Crystal protected by an invisibly-hing...   42725.000000   \n",
      "Transparent See Through                              38014.407767   \n",
      "Transparent, sapphire crystal                        35165.000000   \n",
      "Transparent Sapphire                                 34584.687500   \n",
      "Sapphire Crystal                                     28006.000000   \n",
      "See Through                                          26188.500000   \n",
      "Transparent Exhibition Display                       26023.000000   \n",
      "Exhibition                                           25041.950000   \n",
      "Solid, Screw Down                                    18395.000000   \n",
      "sapphire                                             17450.000000   \n",
      "Screw-down                                           17369.651163   \n",
      "Transparent Exhibition                               15350.000000   \n",
      "Transparent                                          15284.616269   \n",
      "Transparent Exhibition See Through                   14176.250000   \n",
      "Solid                                                10521.785622   \n",
      "Sapphire Crystal Skeleton                            10155.000000   \n",
      "Titanium                                              7981.333333   \n",
      "Transparent S                                         7350.000000   \n",
      "Screw Down                                            6289.163452   \n",
      "18K Rose Gold, Solid, secured via 8 gold screws       5245.000000   \n",
      "Sapphire Crystal Exhibition                           3995.000000   \n",
      "Sapphire                                              3878.000000   \n",
      "Solid Engraved                                        3600.000000   \n",
      "Translucent                                           2439.746667   \n",
      "Stainless steel, Screw, See Through mineral glass     2384.000000   \n",
      "Screw In                                              1910.241875   \n",
      "Transparent Screw Down                                1810.000000   \n",
      "Transparen                                            1790.000000   \n",
      "Guilloche with Sapphire Window                        1649.000000   \n",
      "Hinged Solid                                          1495.000000   \n",
      "Stainless Steel                                       1384.221111   \n",
      "Solid engraved with Fish Symbol and Diving Mask       1032.480000   \n",
      "Solid with a Skeletal Window                           719.000000   \n",
      "Stainless steel, screw-down                            525.000000   \n",
      "Skeleton Brooklyn Bridge etching                       299.990000   \n",
      "Semi-Transparent                                       295.000000   \n",
      "Screw in                                               234.990000   \n",
      "Screw Down Solid                                       189.000000   \n",
      "Semi Transparent                                       134.380000   \n",
      "Hinged Caseback Cover of Vitreous Enamel               121.840000   \n",
      "Transparent with a Stainless Steel Cover               121.840000   \n",
      "Screw Down Skeleton                                     76.990000   \n",
      "Solid Engraved with Bridge Logo                         69.660000   \n",
      "Snap Down                                               67.927500   \n",
      "Screw Down Stainless Steel                              49.990000   \n",
      "\n",
      "                                                              std  \n",
      "case_back                                                          \n",
      "Transparent sapphire                                          NaN  \n",
      "Skeleton Transparent                                220874.547163  \n",
      "Sapphire Crystal Display                            126201.937419  \n",
      "Transparent Sapphire Glass                                    NaN  \n",
      "Skeleton                                            217086.066016  \n",
      "Exhibition See Through                              138649.250990  \n",
      "Sapphire-crystal case back                                    NaN  \n",
      "Sapphire-crystal                                     32205.178349  \n",
      "Skeleton Transparent Exhibition See Through          83216.872450  \n",
      "Transparent (See Through)                            61108.282639  \n",
      "Interchangeable                                               NaN  \n",
      "Sapphire Crystal protected by an invisibly-hing...            NaN  \n",
      "Transparent See Through                             105181.954201  \n",
      "Transparent, sapphire crystal                                 NaN  \n",
      "Transparent Sapphire                                 44782.938435  \n",
      "Sapphire Crystal                                       715.592063  \n",
      "See Through                                          10902.709411  \n",
      "Transparent Exhibition Display                                NaN  \n",
      "Exhibition                                           26216.648258  \n",
      "Solid, Screw Down                                             NaN  \n",
      "sapphire                                                      NaN  \n",
      "Screw-down                                           16438.789833  \n",
      "Transparent Exhibition                                        NaN  \n",
      "Transparent                                          72873.697855  \n",
      "Transparent Exhibition See Through                    6986.363354  \n",
      "Solid                                                44792.859490  \n",
      "Sapphire Crystal Skeleton                             5883.128419  \n",
      "Titanium                                              6802.818558  \n",
      "Transparent S                                                 NaN  \n",
      "Screw Down                                           12579.580305  \n",
      "18K Rose Gold, Solid, secured via 8 gold screws               NaN  \n",
      "Sapphire Crystal Exhibition                                   NaN  \n",
      "Sapphire                                              2685.189937  \n",
      "Solid Engraved                                                NaN  \n",
      "Translucent                                           5817.683107  \n",
      "Stainless steel, Screw, See Through mineral glass             NaN  \n",
      "Screw In                                              4566.484862  \n",
      "Transparent Screw Down                                        NaN  \n",
      "Transparen                                                    NaN  \n",
      "Guilloche with Sapphire Window                                NaN  \n",
      "Hinged Solid                                                  NaN  \n",
      "Stainless Steel                                       1473.504332  \n",
      "Solid engraved with Fish Symbol and Diving Mask               NaN  \n",
      "Solid with a Skeletal Window                                  NaN  \n",
      "Stainless steel, screw-down                                   NaN  \n",
      "Skeleton Brooklyn Bridge etching                         0.000000  \n",
      "Semi-Transparent                                              NaN  \n",
      "Screw in                                                 0.000000  \n",
      "Screw Down Solid                                              NaN  \n",
      "Semi Transparent                                              NaN  \n",
      "Hinged Caseback Cover of Vitreous Enamel                      NaN  \n",
      "Transparent with a Stainless Steel Cover                      NaN  \n",
      "Screw Down Skeleton                                           NaN  \n",
      "Solid Engraved with Bridge Logo                         17.892085  \n",
      "Snap Down                                               13.815299  \n",
      "Screw Down Stainless Steel                                    NaN  \n"
     ]
    }
   ],
   "source": [
    "# Compare min max, mean, std of Case Back and sort by mean\n",
    "case_back_stats = df.groupby('case_back')['price'].agg(['min', 'max', 'mean', 'std']).sort_values(by='mean', ascending=False)\n",
    "print(\"Case Back Statistics:\")\n",
    "print(case_back_stats)"
   ]
  },
  {
   "cell_type": "code",
   "execution_count": null,
   "id": "72682844",
   "metadata": {},
   "outputs": [],
   "source": [
    "df = df.drop(columns=['case_back'])"
   ]
  },
  {
   "cell_type": "code",
   "execution_count": null,
   "id": "20e32856",
   "metadata": {},
   "outputs": [],
   "source": [
    "df.to_csv('../data/data_cleaned.csv', index=False)"
   ]
  },
  {
   "cell_type": "code",
   "execution_count": null,
   "id": "e494ba7e",
   "metadata": {},
   "outputs": [
    {
     "name": "stdout",
     "output_type": "stream",
     "text": [
      "Shape of the data after removing rows with missing values: (7141, 17)\n"
     ]
    }
   ],
   "source": [
    "# Remove các row có missing values\n",
    "df = df.dropna()\n",
    "# Kiểm tra lại shape của dữ liệu\n",
    "print(f\"Shape of the data after removing rows with missing values: {df.shape}\")\n",
    "# Lưu lại dữ liệu đã được làm sạch\n",
    "df.to_csv('../data/data_cleaned.csv', index=False)"
   ]
  },
  {
   "cell_type": "code",
   "execution_count": null,
   "id": "81cf2a11",
   "metadata": {},
   "outputs": [],
   "source": [
    "df.to_csv('../data/data_cleaned.csv', index=False)"
   ]
  },
  {
   "cell_type": "code",
   "execution_count": null,
   "id": "68e09e45",
   "metadata": {},
   "outputs": [
    {
     "name": "stdout",
     "output_type": "stream",
     "text": [
      "Đã xóa 2 cột và lưu file thành công.\n"
     ]
    }
   ],
   "source": [
    "# 1. Đọc dữ liệu\n",
    "df = pd.read_csv(\"../data/data_cleaned.csv\")\n",
    "\n",
    "# 2. Xóa 2 cột\n",
    "df = df.drop(columns=[\n",
    "    \"gender_encoded\",\n",
    "    \"case_material_encoded\"\n",
    "])\n",
    "\n",
    "# 3. Ghi file mới (ghi đè)\n",
    "df.to_csv(\"../data/data_cleaned.csv\", index=False)\n",
    "\n",
    "print(\"Đã xóa 2 cột và lưu file thành công.\")"
   ]
  }
 ],
 "metadata": {
  "kernelspec": {
   "display_name": ".venv",
   "language": "python",
   "name": "python3"
  },
  "language_info": {
   "codemirror_mode": {
    "name": "ipython",
    "version": 3
   },
   "file_extension": ".py",
   "mimetype": "text/x-python",
   "name": "python",
   "nbconvert_exporter": "python",
   "pygments_lexer": "ipython3",
   "version": "3.13.3"
  }
 },
 "nbformat": 4,
 "nbformat_minor": 5
}
