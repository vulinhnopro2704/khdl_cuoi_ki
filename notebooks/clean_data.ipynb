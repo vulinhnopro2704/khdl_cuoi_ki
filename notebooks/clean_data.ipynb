{
 "cells": [
  {
   "cell_type": "markdown",
   "id": "509fcd89",
   "metadata": {},
   "source": [
    "# Clean data, handle missing values, encode categorical variables, feature engineering, Split train and test sets\n"
   ]
  },
  {
   "cell_type": "markdown",
   "id": "1c611fd2",
   "metadata": {},
   "source": [
    "# 1 Clean Data\n"
   ]
  },
  {
   "cell_type": "code",
   "execution_count": null,
   "id": "a7e6e8f9",
   "metadata": {
    "vscode": {
     "languageId": "shellscript"
    }
   },
   "outputs": [],
   "source": [
    "pip install seaborn matplotlib pandas numpy"
   ]
  },
  {
   "cell_type": "code",
   "execution_count": 75,
   "id": "edb3ace4",
   "metadata": {},
   "outputs": [],
   "source": [
    "import numpy as np\n",
    "import pandas as pd\n",
    "import seaborn as sns\n",
    "import matplotlib.pyplot as plt"
   ]
  },
  {
   "cell_type": "code",
   "execution_count": 4,
   "id": "88992f5f",
   "metadata": {},
   "outputs": [],
   "source": [
    "# Load craw data from csv file\n",
    "df = pd.read_csv('../data/products.csv')"
   ]
  },
  {
   "cell_type": "code",
   "execution_count": 6,
   "id": "6ca81507",
   "metadata": {},
   "outputs": [
    {
     "data": {
      "text/plain": [
       "(2585, 38)"
      ]
     },
     "execution_count": 6,
     "metadata": {},
     "output_type": "execute_result"
    }
   ],
   "source": [
    "# Check shape of the data\n",
    "df.shape"
   ]
  },
  {
   "cell_type": "code",
   "execution_count": 76,
   "id": "8f9b3d32",
   "metadata": {},
   "outputs": [
    {
     "name": "stdout",
     "output_type": "stream",
     "text": [
      "Price                0.000000\n",
      "CASE_MATERIAL        0.137615\n",
      "CASE_SHAPE           0.321101\n",
      "CASE_BACK           14.587156\n",
      "BAND_MATERIAL        0.091743\n",
      "BAND_TYPE            0.458716\n",
      "BAND_COLOR           5.091743\n",
      "CLASP               12.339450\n",
      "DIAL_COLOR           0.183486\n",
      "TYPE                 0.183486\n",
      "CRYSTAL              3.348624\n",
      "HANDS                2.752294\n",
      "DIAL_MARKERS         5.458716\n",
      "SECOND_MARKERS      29.403670\n",
      "BEZEL                4.541284\n",
      "BEZEL_COLOR         18.256881\n",
      "BEZEL_MATERIAL       6.055046\n",
      "BRAND                0.000000\n",
      "COLLECTION_NAME      5.458716\n",
      "GENDER               0.000000\n",
      "MODEL                0.000000\n",
      "MOVEMENT             0.229358\n",
      "ENGINE              38.577982\n",
      "CALENDAR            37.522936\n",
      "FUNCTIONS            0.183486\n",
      "WATCH_FEATURES       0.000000\n",
      "WATCH_STYLE          1.651376\n",
      "CASE_DIAMETER        3.532110\n",
      "WATER_RESISTANCE     3.715596\n",
      "CASE_THICKNESS      38.899083\n",
      "gender_encoded       0.000000\n",
      "dtype: float64\n"
     ]
    }
   ],
   "source": [
    "# Check missing values and % data missing\n",
    "print(df.isnull().sum() / df.shape[0] * 100)"
   ]
  },
  {
   "cell_type": "code",
   "execution_count": 77,
   "id": "f16c77fc",
   "metadata": {},
   "outputs": [
    {
     "name": "stdout",
     "output_type": "stream",
     "text": [
      "Còn lại các cột:\n",
      "['Price', 'CASE_MATERIAL', 'CASE_SHAPE', 'CASE_BACK', 'BAND_MATERIAL', 'BAND_TYPE', 'BAND_COLOR', 'CLASP', 'DIAL_COLOR', 'TYPE', 'CRYSTAL', 'HANDS', 'DIAL_MARKERS', 'SECOND_MARKERS', 'BEZEL', 'BEZEL_COLOR', 'BEZEL_MATERIAL', 'BRAND', 'COLLECTION_NAME', 'GENDER', 'MODEL', 'MOVEMENT', 'ENGINE', 'CALENDAR', 'FUNCTIONS', 'WATCH_FEATURES', 'WATCH_STYLE', 'CASE_DIAMETER', 'WATER_RESISTANCE', 'CASE_THICKNESS', 'gender_encoded']\n"
     ]
    }
   ],
   "source": [
    "# Remove redundant columns that are not needed for analysis machine learning\n",
    "cols_to_drop = ['URL', 'JOMASHOP_SKU', 'DEPARTMENT', 'CATEGORY', 'CROWN', 'WATCH_LABEL']\n",
    "# Drop columns if exists\n",
    "for col in cols_to_drop:\n",
    "    if col in df.columns:\n",
    "        df.drop(col, axis=1, inplace=True) \n",
    "print(\"Còn lại các cột:\")\n",
    "print(df.columns.tolist())\n",
    "df.to_csv('../data/products_cleaned_v2.csv', index=False)"
   ]
  },
  {
   "cell_type": "code",
   "execution_count": null,
   "id": "311d15c7",
   "metadata": {},
   "outputs": [],
   "source": [
    "# Save cleaned data to a new csv file\n",
    "df.to_csv('../data/products_cleaned_v2.csv', index=False)"
   ]
  },
  {
   "cell_type": "code",
   "execution_count": 78,
   "id": "e9ece1d1",
   "metadata": {},
   "outputs": [
    {
     "name": "stdout",
     "output_type": "stream",
     "text": [
      "Columns with more than 30.0% missing values: ['ENGINE', 'CALENDAR', 'CASE_THICKNESS']\n"
     ]
    }
   ],
   "source": [
    "# Ngưỡng 30% (threshold = 0.3): loại bỏ tất cả các cột có ≥ 30% giá trị thiếu.\n",
    "# Các cột vượt ngưỡng:\n",
    "# CASE_THICKNESS (44.6%)\n",
    "# SECOND_MARKERS (40.5%)\n",
    "# ENGINE (47.5%)\n",
    "# CALENDAR (47.3%)\n",
    "# CROWN (38.3%)\n",
    "# CATEGORY (36.6%)\n",
    "# WATCH_LABEL (30.5%)\n",
    "# BEZEL_COLOR (31.1%)\n",
    "# Ngưỡng 40% (threshold = 0.4): chỉ loại những cột missing ≥ 40%.\n",
    "# CASE_THICKNESS, SECOND_MARKERS, ENGINE, CALENDAR\n",
    "# Remove columns with more than 30% missing values\n",
    "threshold = 0.3\n",
    "missing_cols = df.columns[df.isnull().mean() > threshold]\n",
    "print(f\"Columns with more than {threshold * 100}% missing values: {missing_cols.tolist()}\")\n",
    "df = df.drop(columns=missing_cols)\n",
    "# Save cleaned data to a new csv file\n",
    "df.to_csv('../data/products_cleaned_v2.csv', index=False)"
   ]
  },
  {
   "cell_type": "code",
   "execution_count": 79,
   "id": "05d7b1af",
   "metadata": {},
   "outputs": [
    {
     "data": {
      "application/vnd.microsoft.datawrangler.viewer.v0+json": {
       "columns": [
        {
         "name": "index",
         "rawType": "int64",
         "type": "integer"
        },
        {
         "name": "Price",
         "rawType": "float64",
         "type": "float"
        },
        {
         "name": "CASE_MATERIAL",
         "rawType": "object",
         "type": "string"
        },
        {
         "name": "CASE_SHAPE",
         "rawType": "object",
         "type": "string"
        },
        {
         "name": "CASE_BACK",
         "rawType": "object",
         "type": "unknown"
        },
        {
         "name": "BAND_MATERIAL",
         "rawType": "object",
         "type": "string"
        },
        {
         "name": "BAND_TYPE",
         "rawType": "object",
         "type": "string"
        },
        {
         "name": "BAND_COLOR",
         "rawType": "object",
         "type": "string"
        },
        {
         "name": "CLASP",
         "rawType": "object",
         "type": "unknown"
        },
        {
         "name": "DIAL_COLOR",
         "rawType": "object",
         "type": "string"
        },
        {
         "name": "TYPE",
         "rawType": "object",
         "type": "string"
        },
        {
         "name": "CRYSTAL",
         "rawType": "object",
         "type": "unknown"
        },
        {
         "name": "HANDS",
         "rawType": "object",
         "type": "string"
        },
        {
         "name": "DIAL_MARKERS",
         "rawType": "object",
         "type": "string"
        },
        {
         "name": "SECOND_MARKERS",
         "rawType": "object",
         "type": "string"
        },
        {
         "name": "BEZEL",
         "rawType": "object",
         "type": "string"
        },
        {
         "name": "BEZEL_COLOR",
         "rawType": "object",
         "type": "string"
        },
        {
         "name": "BEZEL_MATERIAL",
         "rawType": "object",
         "type": "string"
        },
        {
         "name": "BRAND",
         "rawType": "object",
         "type": "string"
        },
        {
         "name": "COLLECTION_NAME",
         "rawType": "object",
         "type": "string"
        },
        {
         "name": "GENDER",
         "rawType": "object",
         "type": "string"
        },
        {
         "name": "MODEL",
         "rawType": "object",
         "type": "string"
        },
        {
         "name": "MOVEMENT",
         "rawType": "object",
         "type": "string"
        },
        {
         "name": "FUNCTIONS",
         "rawType": "object",
         "type": "string"
        },
        {
         "name": "WATCH_FEATURES",
         "rawType": "object",
         "type": "string"
        },
        {
         "name": "WATCH_STYLE",
         "rawType": "object",
         "type": "string"
        },
        {
         "name": "CASE_DIAMETER",
         "rawType": "float64",
         "type": "float"
        },
        {
         "name": "WATER_RESISTANCE",
         "rawType": "float64",
         "type": "float"
        },
        {
         "name": "gender_encoded",
         "rawType": "float64",
         "type": "float"
        }
       ],
       "ref": "04fdf21a-0062-4db3-adbf-eaae1a6338be",
       "rows": [
        [
         "0",
         "534.0",
         "Stainless Steel",
         "Tonneau",
         "Transparent",
         "Stainless Steel",
         "Bracelet",
         "Silver-tone",
         "Fold Over with Safety Release",
         "Blue",
         "Analog",
         "Scratch Resistant Sapphire",
         "Luminous Silver-tone",
         "Index",
         "Minute Markers around the outer rim",
         "Fixed",
         "Silver-tone",
         "Stainless Steel",
         "Tissot",
         "PRX",
         "MENS",
         "T137.407.11.041.00",
         "Automatic",
         "Date, Hour, Minute, Second",
         "Analog, Stainless Steel",
         "Casual",
         "40.0",
         "100.0",
         "20683.79640466926"
        ],
        [
         "1",
         "534.0",
         "Stainless Steel",
         "Tonneau",
         "Transparent",
         "Stainless Steel",
         "Bracelet",
         "Silver-tone",
         "Fold Over with Safety Release",
         "Blue",
         "Analog",
         "Scratch Resistant Sapphire",
         "Luminous Silver-tone",
         "Index",
         "Minute Markers around the outer rim",
         "Fixed",
         "Silver-tone",
         "Stainless Steel",
         "Tissot",
         "PRX",
         "MENS",
         "T137.407.11.041.00",
         "Automatic",
         "Date, Hour, Minute, Second",
         "Analog, Stainless Steel",
         "Casual",
         "40.0",
         "100.0",
         "20683.79640466926"
        ],
        [
         "2",
         "27750.0",
         "Titanium",
         "Octagon",
         null,
         "Titanium",
         "Bracelet",
         "Grey",
         "Deployment with Push Button Release",
         "Black",
         "Analog",
         "Scratch Resistant Sapphire",
         "Luminous",
         "Index and Arabic numeral",
         "Minute Markers around the outer rim",
         "Fixed",
         "Grey",
         "Titanium",
         "Audemars Piguet",
         "Royal Oak Offshore",
         "MENS",
         "25995IP.OO.1000TI.01",
         "Automatic",
         "Date, Second Time Zone, Hour, Minute, Second",
         "Analog, Power Reserve Indicator, Titanium, Time Zone",
         "Luxury",
         "44.0",
         null,
         "20683.79640466926"
        ],
        [
         "3",
         "88.0",
         "Alloy",
         "Round",
         null,
         "Leather",
         "Strap",
         "Blue",
         null,
         "Blue",
         "Analog",
         null,
         "Silver-tone",
         "Arabic Numeral",
         "Minute Markers around the outer rim",
         "Fixed",
         "Silver-tone",
         "Alloy",
         "Stuhrling Original",
         "Monaco",
         "MENS",
         "M17970",
         "Quartz",
         "Chronograph, Date, Hour, Minute, Second",
         "Month, Analog, Leather, Chronograph",
         "Casual",
         "42.0",
         null,
         "20683.79640466926"
        ],
        [
         "4",
         "9318.0",
         "Stainless Steel",
         "Round",
         "Solid",
         "Stainless Steel Oyster",
         "Bracelet",
         "Silver-tone",
         "Fold Over with Safety Release",
         "Black",
         "Analog",
         "Scratch Resistant Sapphire",
         "Silver-tone",
         "Index",
         "Minute Markers around the outer rim",
         "Fixed",
         "Silver-tone",
         "Stainless Steel",
         "Rolex",
         "Explorer II",
         "MENS",
         "16570T BKSO",
         "Automatic",
         "Date, GMT, Second Time Zone, Hour, Minute, Second, Chronometer",
         "Time Zone, Stainless Steel, Analog, GMT, Chronometer",
         "Luxury",
         "40.0",
         "100.0",
         "20683.79640466926"
        ]
       ],
       "shape": {
        "columns": 28,
        "rows": 5
       }
      },
      "text/html": [
       "<div>\n",
       "<style scoped>\n",
       "    .dataframe tbody tr th:only-of-type {\n",
       "        vertical-align: middle;\n",
       "    }\n",
       "\n",
       "    .dataframe tbody tr th {\n",
       "        vertical-align: top;\n",
       "    }\n",
       "\n",
       "    .dataframe thead th {\n",
       "        text-align: right;\n",
       "    }\n",
       "</style>\n",
       "<table border=\"1\" class=\"dataframe\">\n",
       "  <thead>\n",
       "    <tr style=\"text-align: right;\">\n",
       "      <th></th>\n",
       "      <th>Price</th>\n",
       "      <th>CASE_MATERIAL</th>\n",
       "      <th>CASE_SHAPE</th>\n",
       "      <th>CASE_BACK</th>\n",
       "      <th>BAND_MATERIAL</th>\n",
       "      <th>BAND_TYPE</th>\n",
       "      <th>BAND_COLOR</th>\n",
       "      <th>CLASP</th>\n",
       "      <th>DIAL_COLOR</th>\n",
       "      <th>TYPE</th>\n",
       "      <th>...</th>\n",
       "      <th>COLLECTION_NAME</th>\n",
       "      <th>GENDER</th>\n",
       "      <th>MODEL</th>\n",
       "      <th>MOVEMENT</th>\n",
       "      <th>FUNCTIONS</th>\n",
       "      <th>WATCH_FEATURES</th>\n",
       "      <th>WATCH_STYLE</th>\n",
       "      <th>CASE_DIAMETER</th>\n",
       "      <th>WATER_RESISTANCE</th>\n",
       "      <th>gender_encoded</th>\n",
       "    </tr>\n",
       "  </thead>\n",
       "  <tbody>\n",
       "    <tr>\n",
       "      <th>0</th>\n",
       "      <td>534.0</td>\n",
       "      <td>Stainless Steel</td>\n",
       "      <td>Tonneau</td>\n",
       "      <td>Transparent</td>\n",
       "      <td>Stainless Steel</td>\n",
       "      <td>Bracelet</td>\n",
       "      <td>Silver-tone</td>\n",
       "      <td>Fold Over with Safety Release</td>\n",
       "      <td>Blue</td>\n",
       "      <td>Analog</td>\n",
       "      <td>...</td>\n",
       "      <td>PRX</td>\n",
       "      <td>MENS</td>\n",
       "      <td>T137.407.11.041.00</td>\n",
       "      <td>Automatic</td>\n",
       "      <td>Date, Hour, Minute, Second</td>\n",
       "      <td>Analog, Stainless Steel</td>\n",
       "      <td>Casual</td>\n",
       "      <td>40.0</td>\n",
       "      <td>100.0</td>\n",
       "      <td>20683.796405</td>\n",
       "    </tr>\n",
       "    <tr>\n",
       "      <th>1</th>\n",
       "      <td>534.0</td>\n",
       "      <td>Stainless Steel</td>\n",
       "      <td>Tonneau</td>\n",
       "      <td>Transparent</td>\n",
       "      <td>Stainless Steel</td>\n",
       "      <td>Bracelet</td>\n",
       "      <td>Silver-tone</td>\n",
       "      <td>Fold Over with Safety Release</td>\n",
       "      <td>Blue</td>\n",
       "      <td>Analog</td>\n",
       "      <td>...</td>\n",
       "      <td>PRX</td>\n",
       "      <td>MENS</td>\n",
       "      <td>T137.407.11.041.00</td>\n",
       "      <td>Automatic</td>\n",
       "      <td>Date, Hour, Minute, Second</td>\n",
       "      <td>Analog, Stainless Steel</td>\n",
       "      <td>Casual</td>\n",
       "      <td>40.0</td>\n",
       "      <td>100.0</td>\n",
       "      <td>20683.796405</td>\n",
       "    </tr>\n",
       "    <tr>\n",
       "      <th>2</th>\n",
       "      <td>27750.0</td>\n",
       "      <td>Titanium</td>\n",
       "      <td>Octagon</td>\n",
       "      <td>NaN</td>\n",
       "      <td>Titanium</td>\n",
       "      <td>Bracelet</td>\n",
       "      <td>Grey</td>\n",
       "      <td>Deployment with Push Button Release</td>\n",
       "      <td>Black</td>\n",
       "      <td>Analog</td>\n",
       "      <td>...</td>\n",
       "      <td>Royal Oak Offshore</td>\n",
       "      <td>MENS</td>\n",
       "      <td>25995IP.OO.1000TI.01</td>\n",
       "      <td>Automatic</td>\n",
       "      <td>Date, Second Time Zone, Hour, Minute, Second</td>\n",
       "      <td>Analog, Power Reserve Indicator, Titanium, Tim...</td>\n",
       "      <td>Luxury</td>\n",
       "      <td>44.0</td>\n",
       "      <td>NaN</td>\n",
       "      <td>20683.796405</td>\n",
       "    </tr>\n",
       "    <tr>\n",
       "      <th>3</th>\n",
       "      <td>88.0</td>\n",
       "      <td>Alloy</td>\n",
       "      <td>Round</td>\n",
       "      <td>NaN</td>\n",
       "      <td>Leather</td>\n",
       "      <td>Strap</td>\n",
       "      <td>Blue</td>\n",
       "      <td>NaN</td>\n",
       "      <td>Blue</td>\n",
       "      <td>Analog</td>\n",
       "      <td>...</td>\n",
       "      <td>Monaco</td>\n",
       "      <td>MENS</td>\n",
       "      <td>M17970</td>\n",
       "      <td>Quartz</td>\n",
       "      <td>Chronograph, Date, Hour, Minute, Second</td>\n",
       "      <td>Month, Analog, Leather, Chronograph</td>\n",
       "      <td>Casual</td>\n",
       "      <td>42.0</td>\n",
       "      <td>NaN</td>\n",
       "      <td>20683.796405</td>\n",
       "    </tr>\n",
       "    <tr>\n",
       "      <th>4</th>\n",
       "      <td>9318.0</td>\n",
       "      <td>Stainless Steel</td>\n",
       "      <td>Round</td>\n",
       "      <td>Solid</td>\n",
       "      <td>Stainless Steel Oyster</td>\n",
       "      <td>Bracelet</td>\n",
       "      <td>Silver-tone</td>\n",
       "      <td>Fold Over with Safety Release</td>\n",
       "      <td>Black</td>\n",
       "      <td>Analog</td>\n",
       "      <td>...</td>\n",
       "      <td>Explorer II</td>\n",
       "      <td>MENS</td>\n",
       "      <td>16570T BKSO</td>\n",
       "      <td>Automatic</td>\n",
       "      <td>Date, GMT, Second Time Zone, Hour, Minute, Sec...</td>\n",
       "      <td>Time Zone, Stainless Steel, Analog, GMT, Chron...</td>\n",
       "      <td>Luxury</td>\n",
       "      <td>40.0</td>\n",
       "      <td>100.0</td>\n",
       "      <td>20683.796405</td>\n",
       "    </tr>\n",
       "  </tbody>\n",
       "</table>\n",
       "<p>5 rows × 28 columns</p>\n",
       "</div>"
      ],
      "text/plain": [
       "     Price    CASE_MATERIAL CASE_SHAPE    CASE_BACK           BAND_MATERIAL  \\\n",
       "0    534.0  Stainless Steel    Tonneau  Transparent         Stainless Steel   \n",
       "1    534.0  Stainless Steel    Tonneau  Transparent         Stainless Steel   \n",
       "2  27750.0         Titanium    Octagon          NaN                Titanium   \n",
       "3     88.0            Alloy      Round          NaN                 Leather   \n",
       "4   9318.0  Stainless Steel      Round        Solid  Stainless Steel Oyster   \n",
       "\n",
       "  BAND_TYPE   BAND_COLOR                                CLASP DIAL_COLOR  \\\n",
       "0  Bracelet  Silver-tone        Fold Over with Safety Release       Blue   \n",
       "1  Bracelet  Silver-tone        Fold Over with Safety Release       Blue   \n",
       "2  Bracelet         Grey  Deployment with Push Button Release      Black   \n",
       "3     Strap         Blue                                  NaN       Blue   \n",
       "4  Bracelet  Silver-tone        Fold Over with Safety Release      Black   \n",
       "\n",
       "     TYPE  ...     COLLECTION_NAME GENDER                 MODEL   MOVEMENT  \\\n",
       "0  Analog  ...                 PRX   MENS    T137.407.11.041.00  Automatic   \n",
       "1  Analog  ...                 PRX   MENS    T137.407.11.041.00  Automatic   \n",
       "2  Analog  ...  Royal Oak Offshore   MENS  25995IP.OO.1000TI.01  Automatic   \n",
       "3  Analog  ...              Monaco   MENS                M17970     Quartz   \n",
       "4  Analog  ...         Explorer II   MENS           16570T BKSO  Automatic   \n",
       "\n",
       "                                           FUNCTIONS  \\\n",
       "0                         Date, Hour, Minute, Second   \n",
       "1                         Date, Hour, Minute, Second   \n",
       "2       Date, Second Time Zone, Hour, Minute, Second   \n",
       "3            Chronograph, Date, Hour, Minute, Second   \n",
       "4  Date, GMT, Second Time Zone, Hour, Minute, Sec...   \n",
       "\n",
       "                                      WATCH_FEATURES WATCH_STYLE  \\\n",
       "0                            Analog, Stainless Steel      Casual   \n",
       "1                            Analog, Stainless Steel      Casual   \n",
       "2  Analog, Power Reserve Indicator, Titanium, Tim...      Luxury   \n",
       "3                Month, Analog, Leather, Chronograph      Casual   \n",
       "4  Time Zone, Stainless Steel, Analog, GMT, Chron...      Luxury   \n",
       "\n",
       "  CASE_DIAMETER WATER_RESISTANCE gender_encoded  \n",
       "0          40.0            100.0   20683.796405  \n",
       "1          40.0            100.0   20683.796405  \n",
       "2          44.0              NaN   20683.796405  \n",
       "3          42.0              NaN   20683.796405  \n",
       "4          40.0            100.0   20683.796405  \n",
       "\n",
       "[5 rows x 28 columns]"
      ]
     },
     "execution_count": 79,
     "metadata": {},
     "output_type": "execute_result"
    }
   ],
   "source": [
    "# Standardize price column, remove all record that missing price\n",
    "df = df[df['Price'].notna() & (df['Price'].astype(str).str.strip() != '')].copy()\n",
    "df['Price'] = (\n",
    "    df['Price']\n",
    "    .astype(str)\n",
    "    .str.extract(r'([\\d,]+\\.?\\d*)')[0]\n",
    ")\n",
    "df = df[df['Price'].notna()].copy()\n",
    "df['Price'] = df['Price'].str.replace(',', '').astype(float)\n",
    "df.head()"
   ]
  },
  {
   "cell_type": "code",
   "execution_count": 80,
   "id": "ed5b1e25",
   "metadata": {},
   "outputs": [
    {
     "name": "stdout",
     "output_type": "stream",
     "text": [
      "Shape of the data after cleaning: (2180, 28)\n"
     ]
    }
   ],
   "source": [
    "# Check the shape of the data after cleaning\n",
    "print(f\"Shape of the data after cleaning: {df.shape}\")"
   ]
  },
  {
   "cell_type": "code",
   "execution_count": 81,
   "id": "081d04f0",
   "metadata": {},
   "outputs": [],
   "source": [
    "# Save cleaned data to a new csv file\n",
    "df.to_csv('../data/products_cleaned_v2.csv', index=False)"
   ]
  },
  {
   "cell_type": "markdown",
   "id": "9375af1a",
   "metadata": {},
   "source": [
    "## Remove all columns that only have one unique value\n"
   ]
  },
  {
   "cell_type": "code",
   "execution_count": 82,
   "id": "1ea212e4",
   "metadata": {},
   "outputs": [
    {
     "name": "stdout",
     "output_type": "stream",
     "text": [
      "Unique values in each column:\n",
      "Price               1422\n",
      "CASE_MATERIAL        143\n",
      "CASE_SHAPE            10\n",
      "CASE_BACK             29\n",
      "BAND_MATERIAL        246\n",
      "BAND_TYPE              2\n",
      "BAND_COLOR           124\n",
      "CLASP                110\n",
      "DIAL_COLOR           299\n",
      "TYPE                   3\n",
      "CRYSTAL               43\n",
      "HANDS                219\n",
      "DIAL_MARKERS         119\n",
      "SECOND_MARKERS       214\n",
      "BEZEL                 68\n",
      "BEZEL_COLOR          126\n",
      "BEZEL_MATERIAL       233\n",
      "BRAND                161\n",
      "COLLECTION_NAME     1015\n",
      "GENDER                 3\n",
      "MODEL               2178\n",
      "MOVEMENT               4\n",
      "FUNCTIONS            263\n",
      "WATCH_FEATURES       456\n",
      "WATCH_STYLE            9\n",
      "CASE_DIAMETER         44\n",
      "WATER_RESISTANCE      18\n",
      "gender_encoded         3\n",
      "dtype: int64\n"
     ]
    }
   ],
   "source": [
    "# Print unique values in each column\n",
    "unique_counts = df.nunique()\n",
    "print(\"Unique values in each column:\")\n",
    "print(unique_counts)"
   ]
  },
  {
   "cell_type": "code",
   "execution_count": 83,
   "id": "408fd16c",
   "metadata": {},
   "outputs": [
    {
     "name": "stdout",
     "output_type": "stream",
     "text": [
      "Shape of the data after removing single unique value columns: (2180, 28)\n"
     ]
    }
   ],
   "source": [
    "# Remove all columns that only have one unique value\n",
    "df = df.loc[:, df.nunique() > 1]\n",
    "print(f\"Shape of the data after removing single unique value columns: {df.shape}\")\n",
    "df.to_csv('../data/products_cleaned.csv', index=False)"
   ]
  },
  {
   "cell_type": "markdown",
   "id": "406f0fa7",
   "metadata": {},
   "source": [
    "## Standardize Unit\n"
   ]
  },
  {
   "cell_type": "code",
   "execution_count": 85,
   "id": "09c58dcf",
   "metadata": {},
   "outputs": [
    {
     "name": "stdout",
     "output_type": "stream",
     "text": [
      "   CASE_DIAMETER  WATER_RESISTANCE\n",
      "0           40.0             100.0\n",
      "1           40.0             100.0\n",
      "2           44.0               NaN\n",
      "3           42.0               NaN\n",
      "4           40.0             100.0\n"
     ]
    }
   ],
   "source": [
    "df = pd.read_csv('../data/products_cleaned.csv')\n",
    "# Standardize Unit and remove all unit\n",
    "cols_with_units = {\n",
    "    'CASE_DIAMETER': r'([\\d\\.]+)',                     # mm\n",
    "    'WATER_RESISTANCE': r'([\\d\\.]+)',                  # meters\n",
    "}\n",
    "\n",
    "for col, regex in cols_with_units.items():\n",
    "    # 1) Extract chuỗi số phù hợp\n",
    "    df[col + '_num'] = df[col].astype(str).str.extract(regex)[0]\n",
    "    \n",
    "    # 2) Loại dấu phẩy (nếu có) rồi ép về float\n",
    "    df[col + '_num'] = df[col + '_num'].str.replace(',', '').astype(float)\n",
    "\n",
    "# Nếu muốn đổi tên và xóa cột gốc:\n",
    "for col in list(cols_with_units):\n",
    "    df = df.drop(columns=[col]).rename(columns={col + '_num': col})\n",
    "\n",
    "# Kiểm tra kết quả\n",
    "print(df[['CASE_DIAMETER', 'WATER_RESISTANCE']].head())"
   ]
  },
  {
   "cell_type": "code",
   "execution_count": 86,
   "id": "77affcb8",
   "metadata": {},
   "outputs": [],
   "source": [
    "df.to_csv('../data/products_cleaned.csv', index=False)"
   ]
  },
  {
   "cell_type": "code",
   "execution_count": 88,
   "id": "17db9fdd",
   "metadata": {},
   "outputs": [
    {
     "name": "stdout",
     "output_type": "stream",
     "text": [
      "Numeric columns:\n",
      "['Price', 'gender_encoded', 'CASE_DIAMETER', 'WATER_RESISTANCE']\n",
      "Outlier summary:\n",
      "             column            Q1            Q3          IQR   lower_bound  \\\n",
      "0             Price    179.842500   9104.500000  8924.657500 -13207.143750   \n",
      "1    gender_encoded  13196.204049  20683.796405  7487.592356   1964.815515   \n",
      "2     CASE_DIAMETER     35.000000     42.000000     7.000000     24.500000   \n",
      "3  WATER_RESISTANCE     30.000000    100.000000    70.000000    -75.000000   \n",
      "\n",
      "    upper_bound  outliers_count  \n",
      "0  22491.486250             285  \n",
      "1  31915.184939               0  \n",
      "2     52.500000              65  \n",
      "3    205.000000             130  \n"
     ]
    },
    {
     "name": "stderr",
     "output_type": "stream",
     "text": [
      "<>:5: SyntaxWarning: invalid escape sequence '\\d'\n",
      "<>:5: SyntaxWarning: invalid escape sequence '\\d'\n",
      "C:\\Users\\vulin\\AppData\\Local\\Temp\\ipykernel_18400\\1244309582.py:5: SyntaxWarning: invalid escape sequence '\\d'\n",
      "  - unit_regex_map: dict mapping tên cột -> regex để extract số (ví dụ r'([\\d\\.]+)' cho '10.9 mm').\n"
     ]
    }
   ],
   "source": [
    "# Check outliers in the all columns\n",
    "def detect_outliers_iqr(df, unit_regex_map=None, multiplier=1.5):\n",
    "    \"\"\"\n",
    "    Phát hiện outlier theo phương pháp IQR trên tất cả cột số:\n",
    "    - unit_regex_map: dict mapping tên cột -> regex để extract số (ví dụ r'([\\d\\.]+)' cho '10.9 mm').\n",
    "    - multiplier: hệ số nhân IQR (thường dùng 1.5).\n",
    "    Trả về DataFrame summary với Q1, Q3, IQR, bounds và số outlier.\n",
    "    \"\"\"\n",
    "    df_clean = df.copy()\n",
    "    \n",
    "    # 1. Nếu có map cột chứa đơn vị, extract và ép float\n",
    "    if unit_regex_map:\n",
    "        for col, regex in unit_regex_map.items():\n",
    "            df_clean[col] = (\n",
    "                df_clean[col].astype(str)\n",
    "                .str.extract(regex)[0]             # lấy nhóm số\n",
    "                .str.replace(',', '')              # bỏ dấu phẩy nếu có\n",
    "            )\n",
    "            df_clean[col] = pd.to_numeric(df_clean[col], errors='coerce')\n",
    "    \n",
    "    # 2. Tự động chọn cột số\n",
    "    num_cols = df_clean.select_dtypes(include=['number']).columns\n",
    "    \n",
    "    # 3. Tính IQR và đếm outliers\n",
    "    summary = []\n",
    "    for col in num_cols:\n",
    "        series = df_clean[col].dropna()\n",
    "        q1 = series.quantile(0.25)\n",
    "        q3 = series.quantile(0.75)\n",
    "        iqr = q3 - q1\n",
    "        lower, upper = q1 - multiplier * iqr, q3 + multiplier * iqr\n",
    "        outlier_count = series[(series < lower) | (series > upper)].shape[0]\n",
    "        \n",
    "        summary.append({\n",
    "            'column': col,\n",
    "            'Q1': q1,\n",
    "            'Q3': q3,\n",
    "            'IQR': iqr,\n",
    "            'lower_bound': lower,\n",
    "            'upper_bound': upper,\n",
    "            'outliers_count': outlier_count\n",
    "        })\n",
    "    \n",
    "    return pd.DataFrame(summary)\n",
    "\n",
    "# Check outliers in the all numeric columns\n",
    "num_cols = df.select_dtypes(include=['number']).columns\n",
    "print(\"Numeric columns:\")\n",
    "print(num_cols.tolist())\n",
    "\n",
    "# Check outliers from num_cols\n",
    "unit_regex_map = {\n",
    "    'CASE_DIAMETER': r'([\\d\\.]+)',                     # mm\n",
    "    'WATER_RESISTANCE': r'([\\d\\.]+)',                  # m\n",
    "}\n",
    "outlier_summary = detect_outliers_iqr(df, unit_regex_map=unit_regex_map)\n",
    "print(\"Outlier summary:\")\n",
    "print(outlier_summary)"
   ]
  },
  {
   "cell_type": "markdown",
   "id": "02573b64",
   "metadata": {},
   "source": [
    "# Encode Categorical Variables\n"
   ]
  },
  {
   "cell_type": "code",
   "execution_count": null,
   "id": "407a7d62",
   "metadata": {},
   "outputs": [],
   "source": [
    "distinct_values = df['WARRANTY'].dropna().unique()\n",
    "print(\"Distinct values in WARRANTY column:\")\n",
    "print(distinct_values)"
   ]
  },
  {
   "cell_type": "code",
   "execution_count": null,
   "id": "8c9af1c0",
   "metadata": {},
   "outputs": [],
   "source": [
    "df.drop(columns=['WARRANTY'], inplace=True)"
   ]
  },
  {
   "cell_type": "code",
   "execution_count": 91,
   "id": "e8d48fa6",
   "metadata": {},
   "outputs": [
    {
     "name": "stdout",
     "output_type": "stream",
     "text": [
      "Rows with more than 30.0% missing values: 0\n",
      "Shape of the data after dropping rows with more than 30.0% missing values: (2180, 28)\n"
     ]
    }
   ],
   "source": [
    "# Drop all rows that have 30% columns missing\n",
    "threshold = 0.3\n",
    "missing_rows = df[df.isnull().mean(axis=1) > threshold]\n",
    "print(f\"Rows with more than {threshold * 100}% missing values: {missing_rows.shape[0]}\")\n",
    "df = df.dropna(thresh=int(df.shape[1] * (1 - threshold)))\n",
    "print(f\"Shape of the data after dropping rows with more than {threshold * 100}% missing values: {df.shape}\")\n",
    "df.to_csv('../data/products_cleaned.csv', index=False)"
   ]
  },
  {
   "cell_type": "code",
   "execution_count": 95,
   "id": "b6573f3f",
   "metadata": {},
   "outputs": [
    {
     "name": "stderr",
     "output_type": "stream",
     "text": [
      "C:\\Users\\vulin\\AppData\\Local\\Temp\\ipykernel_18400\\3251429345.py:28: UserWarning: No artists with labels found to put in legend.  Note that artists whose label start with an underscore are ignored when legend() is called with no argument.\n",
      "  plt.legend(title='Segment', bbox_to_anchor=(1.05, 1), loc='upper left')\n"
     ]
    },
    {
     "data": {
      "image/png": "[encoded data removed]",
      "text/plain": [
       "<Figure size 800x500 with 1 Axes>"
      ]
     },
     "metadata": {},
     "output_type": "display_data"
    },
    {
     "name": "stderr",
     "output_type": "stream",
     "text": [
      "C:\\Users\\vulin\\AppData\\Local\\Temp\\ipykernel_18400\\3251429345.py:34: FutureWarning: \n",
      "\n",
      "Passing `palette` without assigning `hue` is deprecated and will be removed in v0.14.0. Assign the `x` variable to `hue` and set `legend=False` for the same effect.\n",
      "\n",
      "  sns.boxplot(\n"
     ]
    },
    {
     "data": {
      "image/png": "[encoded data removed]",
      "text/plain": [
       "<Figure size 900x500 with 1 Axes>"
      ]
     },
     "metadata": {},
     "output_type": "display_data"
    },
    {
     "name": "stderr",
     "output_type": "stream",
     "text": [
      "C:\\Users\\vulin\\AppData\\Local\\Temp\\ipykernel_18400\\3251429345.py:50: FutureWarning: \n",
      "\n",
      "Passing `palette` without assigning `hue` is deprecated and will be removed in v0.14.0. Assign the `x` variable to `hue` and set `legend=False` for the same effect.\n",
      "\n",
      "  sns.countplot(\n"
     ]
    },
    {
     "data": {
      "image/png": "[encoded data removed]",
      "text/plain": [
       "<Figure size 800x400 with 1 Axes>"
      ]
     },
     "metadata": {},
     "output_type": "display_data"
    },
    {
     "data": {
      "image/png": "[encoded data removed]",
      "text/plain": [
       "<Figure size 800x500 with 1 Axes>"
      ]
     },
     "metadata": {},
     "output_type": "display_data"
    },
    {
     "name": "stderr",
     "output_type": "stream",
     "text": [
      "C:\\Users\\vulin\\AppData\\Local\\Temp\\ipykernel_18400\\3251429345.py:79: FutureWarning: The default of observed=False is deprecated and will be changed to True in a future version of pandas. Pass observed=False to retain current behavior or observed=True to adopt the future default and silence this warning.\n",
      "  price_stats = df.groupby('Price_Segment')['Price'].agg(['mean', 'min', 'max']).reindex(labels)\n"
     ]
    },
    {
     "name": "stdout",
     "output_type": "stream",
     "text": [
      "Price statistics by segment:\n",
      "                       mean       min         max\n",
      "Price_Segment                                    \n",
      "Low               83.310963     29.00      134.38\n",
      "Medium           273.848555    136.99      561.00\n",
      "High            1438.415515    565.00     3150.00\n",
      "Ultra High      6936.149195   3160.00    13320.00\n",
      "Luxury         80984.533647  13335.00  6267500.00\n"
     ]
    },
    {
     "data": {
      "image/png": "[encoded data removed]",
      "text/plain": [
       "<Figure size 900x500 with 1 Axes>"
      ]
     },
     "metadata": {},
     "output_type": "display_data"
    }
   ],
   "source": [
    "\n",
    "import pandas as pd\n",
    "import matplotlib.pyplot as plt\n",
    "import seaborn as sns\n",
    "\n",
    "# Giả sử df đã load và đã lọc giá > 400_000\n",
    "labels = ['Low', 'Medium', 'High', 'Ultra High', 'Luxury']\n",
    "\n",
    "# q=5 để chia thành 5 nhóm\n",
    "df['Price_Segment'] = pd.qcut(df['Price'], q=5, labels=labels)\n",
    "\n",
    "# Đảm bảo thứ tự hiển thị\n",
    "order = labels\n",
    "\n",
    "# 1) Histogram\n",
    "plt.figure(figsize=(8, 5))\n",
    "sns.histplot(\n",
    "    data=df,\n",
    "    x='Price',\n",
    "    hue='Price_Segment',\n",
    "    bins=30,\n",
    "    palette='tab10',\n",
    "    multiple='stack',\n",
    "    hue_order=order\n",
    ")\n",
    "plt.title(\"Phân phối giá theo 5 phân khúc (Histogram)\")\n",
    "plt.xlabel(\"Price\")\n",
    "plt.ylabel(\"Count\")\n",
    "plt.legend(title='Segment', bbox_to_anchor=(1.05, 1), loc='upper left')\n",
    "plt.tight_layout()\n",
    "plt.show()\n",
    "\n",
    "# 2) Boxplot\n",
    "plt.figure(figsize=(9, 5))\n",
    "sns.boxplot(\n",
    "    data=df,\n",
    "    x='Price_Segment',\n",
    "    y='Price',\n",
    "    order=order,\n",
    "    palette='Set3'\n",
    ")\n",
    "plt.title(\"Boxplot giá theo 5 phân khúc\")\n",
    "plt.xlabel(\"Price Segment\")\n",
    "plt.ylabel(\"Price\")\n",
    "plt.xticks(rotation=30)\n",
    "plt.tight_layout()\n",
    "plt.show()\n",
    "\n",
    "# 3) Countplot\n",
    "plt.figure(figsize=(8, 4))\n",
    "sns.countplot(\n",
    "    data=df,\n",
    "    x='Price_Segment',\n",
    "    order=order,\n",
    "    palette='pastel'\n",
    ")\n",
    "plt.title(\"Số lượng sản phẩm theo 5 phân khúc\")\n",
    "plt.xlabel(\"Price Segment\")\n",
    "plt.ylabel(\"Count\")\n",
    "plt.xticks(rotation=30)\n",
    "plt.tight_layout()\n",
    "plt.show()\n",
    "\n",
    "# 4) KDE Plot\n",
    "plt.figure(figsize=(8, 5))\n",
    "for seg in order:\n",
    "    sns.kdeplot(\n",
    "        data=df[df['Price_Segment'] == seg]['Price'],\n",
    "        label=seg,\n",
    "        fill=True\n",
    "    )\n",
    "plt.title(\"Mật độ phân phối giá theo 5 phân khúc (KDE)\")\n",
    "plt.xlabel(\"Price\")\n",
    "plt.ylabel(\"Density\")\n",
    "plt.legend(title='Segment', bbox_to_anchor=(1.05, 1), loc='upper left')\n",
    "plt.tight_layout()\n",
    "plt.show()\n",
    "\n",
    "# Tính giá trị min, max, mean\n",
    "price_stats = df.groupby('Price_Segment')['Price'].agg(['mean', 'min', 'max']).reindex(labels)\n",
    "print(\"Price statistics by segment:\")\n",
    "print(price_stats)\n",
    "# Tính yerr: khoảng sai số (min-max)\n",
    "yerr = np.array([\n",
    "    price_stats['mean'] - price_stats['min'],\n",
    "    price_stats['max'] - price_stats['mean']\n",
    "])\n",
    "\n",
    "# Vẽ barplot với error bars\n",
    "plt.figure(figsize=(9, 5))\n",
    "plt.bar(\n",
    "    x=price_stats.index,\n",
    "    height=price_stats['mean'],\n",
    "    yerr=yerr,\n",
    "    capsize=5,\n",
    "    color='skyblue',\n",
    "    edgecolor='black'\n",
    ")\n",
    "plt.title(\"Giá trung bình và khoảng giá mỗi phân khúc\")\n",
    "plt.ylabel(\"Average Price (VND)\")\n",
    "plt.xlabel(\"Price Segment\")\n",
    "plt.xticks(rotation=30)\n",
    "plt.tight_layout()\n",
    "plt.show()\n"
   ]
  },
  {
   "cell_type": "code",
   "execution_count": 64,
   "id": "fdc17be4",
   "metadata": {},
   "outputs": [
    {
     "name": "stdout",
     "output_type": "stream",
     "text": [
      "Tổng dòng: 2168, Có phân khúc: 2168, Không gán phân khúc: 0\n"
     ]
    }
   ],
   "source": [
    "total_rows = len(df)\n",
    "non_missing = df['Price_Segment'].notna().sum()\n",
    "missing = df['Price_Segment'].isna().sum()\n",
    "print(f\"Tổng dòng: {total_rows}, Có phân khúc: {non_missing}, Không gán phân khúc: {missing}\")\n"
   ]
  },
  {
   "cell_type": "code",
   "execution_count": null,
   "id": "34072db9",
   "metadata": {},
   "outputs": [],
   "source": [
    "%pip install -U scikit-learn"
   ]
  },
  {
   "cell_type": "code",
   "execution_count": 105,
   "id": "4cb4d162",
   "metadata": {},
   "outputs": [
    {
     "name": "stderr",
     "output_type": "stream",
     "text": [
      "C:\\Users\\vulin\\AppData\\Local\\Temp\\ipykernel_18400\\1064921100.py:48: UserWarning: No artists with labels found to put in legend.  Note that artists whose label start with an underscore are ignored when legend() is called with no argument.\n",
      "  plt.legend(title='Segment', bbox_to_anchor=(1.05, 1), loc='upper left')\n"
     ]
    },
    {
     "data": {
      "image/png": "[encoded data removed]",
      "text/plain": [
       "<Figure size 800x500 with 1 Axes>"
      ]
     },
     "metadata": {},
     "output_type": "display_data"
    },
    {
     "name": "stderr",
     "output_type": "stream",
     "text": [
      "C:\\Users\\vulin\\AppData\\Local\\Temp\\ipykernel_18400\\1064921100.py:54: FutureWarning: \n",
      "\n",
      "Passing `palette` without assigning `hue` is deprecated and will be removed in v0.14.0. Assign the `x` variable to `hue` and set `legend=False` for the same effect.\n",
      "\n",
      "  sns.boxplot(\n"
     ]
    },
    {
     "data": {
      "image/png": "[encoded data removed]",
      "text/plain": [
       "<Figure size 900x500 with 1 Axes>"
      ]
     },
     "metadata": {},
     "output_type": "display_data"
    },
    {
     "name": "stderr",
     "output_type": "stream",
     "text": [
      "C:\\Users\\vulin\\AppData\\Local\\Temp\\ipykernel_18400\\1064921100.py:71: FutureWarning: \n",
      "\n",
      "Passing `palette` without assigning `hue` is deprecated and will be removed in v0.14.0. Assign the `x` variable to `hue` and set `legend=False` for the same effect.\n",
      "\n",
      "  sns.countplot(\n"
     ]
    },
    {
     "data": {
      "image/png": "[encoded data removed]",
      "text/plain": [
       "<Figure size 800x400 with 1 Axes>"
      ]
     },
     "metadata": {},
     "output_type": "display_data"
    },
    {
     "data": {
      "image/png": "[encoded data removed]",
      "text/plain": [
       "<Figure size 800x500 with 1 Axes>"
      ]
     },
     "metadata": {},
     "output_type": "display_data"
    },
    {
     "name": "stdout",
     "output_type": "stream",
     "text": [
      "Khoảng giá thực tế (VND) cho mỗi phân khúc:\n",
      "                         min         max\n",
      "Price_Segment_LogKM                     \n",
      "1. Low                  29.0      278.05\n",
      "2. Medium              279.0     1750.00\n",
      "3. High               1775.0     9805.00\n",
      "4. Ultra High         9835.0    59950.00\n",
      "5. Luxury            61500.0  6267500.00\n"
     ]
    }
   ],
   "source": [
    "import pandas as pd\n",
    "import matplotlib.pyplot as plt\n",
    "import seaborn as sns\n",
    "from sklearn.cluster import KMeans\n",
    "import numpy as np\n",
    "\n",
    "# 1. Đọc dữ liệu\n",
    "df = pd.read_csv('../data/products_cleaned_v2.csv')\n",
    "\n",
    "# 2. Log-transform để làm mềm phân phối\n",
    "#    log1p để tránh log(0) nếu có giá = 0\n",
    "df['log_price'] = np.log1p(df['Price'])\n",
    "\n",
    "# 3. Phân cụm KMeans trên log_price\n",
    "kmeans = KMeans(n_clusters=5, random_state=42, n_init='auto')\n",
    "df['cluster_log'] = kmeans.fit_predict(df[['log_price']])\n",
    "\n",
    "# 4. Tính log_price trung bình mỗi cluster rồi sắp xếp tăng dần\n",
    "cluster_log_means = df.groupby('cluster_log')['log_price'].mean().sort_values()\n",
    "\n",
    "# 5. Tạo nhãn có số thứ tự\n",
    "labels = ['1. Low', '2. Medium', '3. High', '4. Ultra High', '5. Luxury']\n",
    "cluster_log_map = {cluster: label for cluster, label in zip(cluster_log_means.index, labels)}\n",
    "\n",
    "# 6. Ánh xạ cluster thành nhãn phân khúc có số\n",
    "df['Price_Segment_LogKM'] = df['cluster_log'].map(cluster_log_map)\n",
    "\n",
    "# 7. Chuẩn bị thứ tự hiển thị trên biểu đồ\n",
    "order_logkm = labels\n",
    "\n",
    "# 8. Vẽ biểu đồ\n",
    "\n",
    "# 8.1 Histogram (trục log)\n",
    "plt.figure(figsize=(8, 5))\n",
    "sns.histplot(\n",
    "    data=df,\n",
    "    x='Price',\n",
    "    hue='Price_Segment_LogKM',\n",
    "    bins=30,\n",
    "    palette='tab10',\n",
    "    multiple='stack',\n",
    "    hue_order=order_logkm\n",
    ")\n",
    "plt.xscale('log')\n",
    "plt.title(\"Phân phối giá theo 5 phân khúc (Histogram trên trục log)\")\n",
    "plt.xlabel(\"Price (VND, log scale)\")\n",
    "plt.ylabel(\"Count\")\n",
    "plt.legend(title='Segment', bbox_to_anchor=(1.05, 1), loc='upper left')\n",
    "plt.tight_layout()\n",
    "plt.show()\n",
    "\n",
    "# 8.2 Boxplot (trục log)\n",
    "plt.figure(figsize=(9, 5))\n",
    "sns.boxplot(\n",
    "    data=df,\n",
    "    x='Price_Segment_LogKM',\n",
    "    y='Price',\n",
    "    order=order_logkm,\n",
    "    palette='Set3'\n",
    ")\n",
    "plt.yscale('log')\n",
    "plt.title(\"Boxplot giá theo 5 phân khúc (trục y log)\")\n",
    "plt.xlabel(\"Price Segment\")\n",
    "plt.ylabel(\"Price (VND, log scale)\")\n",
    "plt.xticks(rotation=30)\n",
    "plt.tight_layout()\n",
    "plt.show()\n",
    "\n",
    "# 8.3 Countplot (vẫn bình thường)\n",
    "plt.figure(figsize=(8, 4))\n",
    "sns.countplot(\n",
    "    data=df,\n",
    "    x='Price_Segment_LogKM',\n",
    "    order=order_logkm,\n",
    "    palette='pastel'\n",
    ")\n",
    "plt.title(\"Số lượng sản phẩm theo 5 phân khúc\")\n",
    "plt.xlabel(\"Price Segment\")\n",
    "plt.ylabel(\"Count\")\n",
    "plt.xticks(rotation=30)\n",
    "plt.tight_layout()\n",
    "plt.show()\n",
    "\n",
    "# 8.4 KDE Plot (trục log)\n",
    "plt.figure(figsize=(8, 5))\n",
    "for seg in order_logkm:\n",
    "    sns.kdeplot(\n",
    "        data=df[df['Price_Segment_LogKM'] == seg]['Price'],\n",
    "        label=seg,\n",
    "        fill=True\n",
    "    )\n",
    "plt.xscale('log')\n",
    "plt.title(\"Mật độ phân phối giá theo 5 phân khúc (KDE trên trục log)\")\n",
    "plt.xlabel(\"Price (VND, log scale)\")\n",
    "plt.ylabel(\"Density\")\n",
    "plt.legend(title='Segment', bbox_to_anchor=(1.05, 1), loc='upper left')\n",
    "plt.tight_layout()\n",
    "plt.show()\n",
    "\n",
    "# 9. (Tuỳ chọn) In khoảng giá gốc min–max của mỗi phân khúc sau khi log-KMeans\n",
    "ranges = df.groupby('Price_Segment_LogKM')['Price'] \\\n",
    "           .agg(['min','max'])\n",
    "print(\"Khoảng giá thực tế (VND) cho mỗi phân khúc:\")\n",
    "print(ranges)\n"
   ]
  },
  {
   "cell_type": "code",
   "execution_count": 106,
   "id": "327aa3c6",
   "metadata": {},
   "outputs": [
    {
     "name": "stdout",
     "output_type": "stream",
     "text": [
      "['MENS' 'UNISEX' 'WOMENS']\n",
      "GENDER\n",
      "MENS      20683.796405\n",
      "UNISEX    16877.375969\n",
      "WOMENS    13196.204049\n",
      "Name: Price, dtype: float64\n"
     ]
    }
   ],
   "source": [
    "import pandas as pd\n",
    "\n",
    "# Đọc dữ liệu\n",
    "df = pd.read_csv('../data/products_cleaned.csv')\n",
    "\n",
    "# Xem các giá trị duy nhất trong cột giới tính (để kiểm tra chính tả)\n",
    "print(df['GENDER'].unique())\n",
    "\n",
    "# Tính giá trung bình theo từng giới tính\n",
    "average_price_by_gender = df.groupby('GENDER')['Price'].mean()\n",
    "\n",
    "# Hiển thị kết quả\n",
    "print(average_price_by_gender)\n"
   ]
  },
  {
   "cell_type": "code",
   "execution_count": null,
   "id": "273b4a7e",
   "metadata": {},
   "outputs": [
    {
     "name": "stdout",
     "output_type": "stream",
     "text": [
      "GENDER\n",
      "MENS      20683.796405\n",
      "UNISEX    16877.375969\n",
      "WOMENS    13196.204049\n",
      "Name: Price, dtype: float64\n",
      "  GENDER  gender_encoded    Price\n",
      "0   MENS    20683.796405    534.0\n",
      "1   MENS    20683.796405    534.0\n",
      "2   MENS    20683.796405  27750.0\n",
      "3   MENS    20683.796405     88.0\n",
      "4   MENS    20683.796405   9318.0\n"
     ]
    }
   ],
   "source": [
    "# Chuẩn hóa cột GENDER\n",
    "df['GENDER'] = df['GENDER'].str.strip().str.upper()\n",
    "\n",
    "# Tính giá trung bình theo từng giới tính\n",
    "gender_target_map = df.groupby('GENDER')['Price'].mean()\n",
    "\n",
    "# In ra để kiểm tra\n",
    "print(gender_target_map)\n",
    "\n",
    "# Áp dụng target encoding\n",
    "df['gender_encoded'] = df['GENDER'].map(gender_target_map)\n",
    "\n",
    "# Kiểm tra kết quả\n",
    "print(df[['GENDER', 'gender_encoded', 'Price']].head())"
   ]
  },
  {
   "cell_type": "code",
   "execution_count": 108,
   "id": "8d059349",
   "metadata": {},
   "outputs": [
    {
     "name": "stdout",
     "output_type": "stream",
     "text": [
      "(2180, 28)\n"
     ]
    }
   ],
   "source": [
    "print(df.shape)"
   ]
  },
  {
   "cell_type": "code",
   "execution_count": 74,
   "id": "907dc4b7",
   "metadata": {},
   "outputs": [],
   "source": [
    "df.to_csv('../data/products_cleaned.csv', index=False)"
   ]
  },
  {
   "cell_type": "code",
   "execution_count": null,
   "id": "01cfa0af",
   "metadata": {},
   "outputs": [
    {
     "name": "stdout",
     "output_type": "stream",
     "text": [
      "Case Material Target Map (sorted):\n",
      "CASE_MATERIAL\n",
      "Baguette Diamond-Set 18kt White Gold                 1.386640e+06\n",
      "Carbon TPT                                           1.380000e+06\n",
      "18kt White Gold Set with 47 Baguette-cut Emeralds    4.167600e+05\n",
      "18kt White Gold Diamond                              3.070650e+05\n",
      "950 Platiunum                                        3.047500e+05\n",
      "                                                         ...     \n",
      "Composite                                            5.771500e+01\n",
      "Composite Metal                                      5.592915e+01\n",
      "Polished Alloy                                       5.549500e+01\n",
      "Base Metal                                           5.399000e+01\n",
      "Metal                                                4.683500e+01\n",
      "Name: Price, Length: 143, dtype: float64\n"
     ]
    }
   ],
   "source": [
    "# Encoding Case Material\n",
    "case_material_target_map = df.groupby('CASE_MATERIAL')['Price'].mean()\n",
    "\n",
    "# In ra phiên bản sort của case_material_target_map\n",
    "case_material_target_map_sorted = case_material_target_map.sort_values(ascending=False)\n",
    "print(\"Case Material Target Map (sorted):\")\n",
    "print(case_material_target_map_sorted)\n"
   ]
  },
  {
   "cell_type": "code",
   "execution_count": 112,
   "id": "f5f36ae3",
   "metadata": {},
   "outputs": [
    {
     "name": "stdout",
     "output_type": "stream",
     "text": [
      "Case Material Target Encoding Applied:\n",
      "     CASE_MATERIAL  case_material_encoded    Price\n",
      "0  Stainless Steel            4672.238381    534.0\n",
      "1  Stainless Steel            4672.238381    534.0\n",
      "2         Titanium           25985.754032  27750.0\n",
      "3            Alloy              98.860571     88.0\n",
      "4  Stainless Steel            4672.238381   9318.0\n"
     ]
    }
   ],
   "source": [
    "# Áp dung target encoding cho CASE_MATERIAL\n",
    "df['case_material_encoded'] = df['CASE_MATERIAL'].map(case_material_target_map)\n",
    "print(\"Case Material Target Encoding Applied:\")\n",
    "print(df[['CASE_MATERIAL', 'case_material_encoded', 'Price']].head())"
   ]
  },
  {
   "cell_type": "code",
   "execution_count": 114,
   "id": "d041633f",
   "metadata": {},
   "outputs": [
    {
     "name": "stdout",
     "output_type": "stream",
     "text": [
      "🔍 Thống kê giá theo CASE_SHAPE (sorted by mean):\n",
      "            count      mean    min      q25   median       q75        max  \\\n",
      "CASE_SHAPE                                                                  \n",
      "Octagon        21  186162.0  654.0  50025.0  74750.0  115540.0  1386640.0   \n",
      "Cushion        37   69813.0   82.0   3995.0   7050.0   18350.0  1782500.0   \n",
      "Unique         20   51718.0   50.0    354.0   2812.0   27382.0   332855.0   \n",
      "Rectangle     103   33329.0   41.0    594.0   3650.0   18672.0   445280.0   \n",
      "Tonneau        57   30187.0   48.0    191.0    534.0    6902.0  1380000.0   \n",
      "Oval           26   21689.0   59.0    295.0   1395.0   27509.0   255000.0   \n",
      "Round        1805   13654.0   29.0    166.0    950.0    7595.0  6267500.0   \n",
      "Square         91   12889.0   62.0   1216.0   4205.0    9445.0   220455.0   \n",
      "Dodecagon      12    3662.0   56.0    130.0   2293.0    2812.0    22425.0   \n",
      "Triangle        1     689.0  689.0    689.0    689.0     689.0      689.0   \n",
      "\n",
      "                 std  \n",
      "CASE_SHAPE            \n",
      "Octagon     311703.0  \n",
      "Cushion     291649.0  \n",
      "Unique      107241.0  \n",
      "Rectangle    77787.0  \n",
      "Tonneau     182289.0  \n",
      "Oval         51429.0  \n",
      "Round       153122.0  \n",
      "Square       32078.0  \n",
      "Dodecagon     6346.0  \n",
      "Triangle         NaN  \n"
     ]
    }
   ],
   "source": [
    "import pandas as pd\n",
    "import numpy as np\n",
    "\n",
    "# Nếu chưa có df, đọc lại:\n",
    "# df = pd.read_csv('../data/products_cleaned_v2.csv')\n",
    "\n",
    "# Định nghĩa hàm tính các percentiles\n",
    "def q25(x):    return x.quantile(0.25)\n",
    "def q50(x):    return x.quantile(0.50)\n",
    "def q75(x):    return x.quantile(0.75)\n",
    "\n",
    "# Nhóm và tính\n",
    "price_stats = df.groupby('CASE_SHAPE')['Price'].agg(\n",
    "    count='count',\n",
    "    mean='mean',\n",
    "    min='min',\n",
    "    q25=q25,\n",
    "    median=q50,\n",
    "    q75=q75,\n",
    "    max='max',\n",
    "    std='std'\n",
    ")\n",
    "\n",
    "# Sắp xếp theo mean giảm dần\n",
    "price_stats_sorted = price_stats.sort_values(by='mean', ascending=False)\n",
    "\n",
    "# In kết quả\n",
    "print(\"🔍 Thống kê giá theo CASE_SHAPE (sorted by mean):\")\n",
    "print(price_stats_sorted.round(0))  # làm tròn cho dễ đọc\n"
   ]
  },
  {
   "cell_type": "code",
   "execution_count": 115,
   "id": "dd29ad49",
   "metadata": {},
   "outputs": [],
   "source": [
    "# Case Shape have big impact on price, drop it\n",
    "df.drop(columns=['CASE_SHAPE'], inplace=True)"
   ]
  },
  {
   "cell_type": "code",
   "execution_count": 116,
   "id": "12008578",
   "metadata": {},
   "outputs": [
    {
     "data": {
      "text/plain": [
       "(2180, 28)"
      ]
     },
     "execution_count": 116,
     "metadata": {},
     "output_type": "execute_result"
    }
   ],
   "source": [
    "df.shape"
   ]
  },
  {
   "cell_type": "markdown",
   "id": "0927f5d3",
   "metadata": {},
   "source": [
    "Price\n",
    "Giá bán (hoặc niêm yết) của đồng hồ, thường là giá thực tế bạn muốn dự đoán hoặc phân khúc.\n",
    "\n",
    "CASE_MATERIAL\n",
    "Vật liệu chế tác vỏ đồng hồ (case). Ví dụ: Thép không gỉ, Titanium, Vàng, Gốm ceramic, Đồng (Bronze)…\n",
    "\n",
    "Band Material\n",
    "Vật liệu dây đeo (strap/bracelet). Ví dụ: Da, Cao su (Rubber), Thép không gỉ, Nylon (NATO), Silicone…\n",
    "\n",
    "Case Back\n",
    "Kiểu lưng vỏ đồng hồ:\n",
    "\n",
    "“Solid” (đặc)\n",
    "\n",
    "“Exhibition” (kính trong, lộ máy)\n",
    "\n",
    "“Screw-down” (vặn vít)\n",
    "\n",
    "“Snap-on” (bấm)\n",
    "\n",
    "BEZEL MATERIAL\n",
    "Vật liệu vành bezel (vành xoay hoặc cố định) quanh mặt kính. Ví dụ: Nhôm, Gốm ceramic, Thép không gỉ, Vàng…\n",
    "\n",
    "BRAND\n",
    "Thương hiệu (Rolex, Omega, Seiko, Casio…). Yếu tố quan trọng quyết định phần lớn giá trị và uy tín.\n",
    "\n",
    "GENDERS\n",
    "Đối tượng hướng tới: “Men’s” (nam), “Women’s” (nữ) hoặc “Unisex” (cả hai).\n",
    "\n",
    "MOVEMENT\n",
    "Loại máy bên trong:\n",
    "\n",
    "Quartz (pin)\n",
    "\n",
    "Automatic (tự động lên dây)\n",
    "\n",
    "Manual (lên dây tay)\n",
    "\n",
    "Solar (năng lượng mặt trời)\n",
    "\n",
    "Kinetic (cơ – điện)…\n",
    "\n",
    "WATCH STYLE\n",
    "Phong cách thiết kế: Diver (lặn), Dress (formal), Chronograph (bấm giờ), Pilot (phi công), Field (đồng hồ quân đội), Smartwatch, Skeleton (lộ máy)…\n",
    "\n",
    "CASE DIAMETER\n",
    "Đường kính vỏ đồng hồ (tính qua mặt số) tính bằng millimeter (mm).\n",
    "\n",
    "WATER RESISTANCE\n",
    "Khả năng chịu nước, thường thể hiện bằng mét (m) hoặc ATM (atmospheres). Ví dụ: 30 m, 100 m, 300 m…\n",
    "\n",
    "CASE THICKNESS\n",
    "Độ dày vỏ (từ đáy đến mặt kính) tính bằng millimeter (mm).\n"
   ]
  },
  {
   "cell_type": "markdown",
   "id": "850b8f7e",
   "metadata": {},
   "source": [
    "# 1. Feature Engineering\n"
   ]
  },
  {
   "cell_type": "markdown",
   "id": "0f9abd30",
   "metadata": {},
   "source": [
    "### Get Most important features of a Clock\n"
   ]
  },
  {
   "cell_type": "code",
   "execution_count": 119,
   "id": "fdefa090",
   "metadata": {},
   "outputs": [
    {
     "ename": "KeyError",
     "evalue": "\"['CASE_THICKNESS'] not in index\"",
     "output_type": "error",
     "traceback": [
      "\u001b[31m---------------------------------------------------------------------------\u001b[39m",
      "\u001b[31mKeyError\u001b[39m                                  Traceback (most recent call last)",
      "\u001b[36mCell\u001b[39m\u001b[36m \u001b[39m\u001b[32mIn[119]\u001b[39m\u001b[32m, line 20\u001b[39m\n\u001b[32m      4\u001b[39m cols = [\n\u001b[32m      5\u001b[39m     \u001b[33m'\u001b[39m\u001b[33mPrice\u001b[39m\u001b[33m'\u001b[39m,\n\u001b[32m      6\u001b[39m     \u001b[33m'\u001b[39m\u001b[33mCASE_MATERIAL\u001b[39m\u001b[33m'\u001b[39m,\n\u001b[32m   (...)\u001b[39m\u001b[32m     16\u001b[39m     \u001b[33m'\u001b[39m\u001b[33mCASE_THICKNESS\u001b[39m\u001b[33m'\u001b[39m\n\u001b[32m     17\u001b[39m ]\n\u001b[32m     19\u001b[39m \u001b[38;5;66;03m# Lấy ra subset\u001b[39;00m\n\u001b[32m---> \u001b[39m\u001b[32m20\u001b[39m df_sub = \u001b[43mdf\u001b[49m\u001b[43m[\u001b[49m\u001b[43mcols\u001b[49m\u001b[43m]\u001b[49m.copy()\n\u001b[32m     22\u001b[39m \u001b[38;5;66;03m# Chuẩn hóa tên cột về lowercase + underscore\u001b[39;00m\n\u001b[32m     23\u001b[39m df_sub.columns = (\n\u001b[32m     24\u001b[39m     df_sub.columns\n\u001b[32m     25\u001b[39m     .str.strip()                                  \u001b[38;5;66;03m# Bỏ khoảng trắng đầu-cuối\u001b[39;00m\n\u001b[32m   (...)\u001b[39m\u001b[32m     28\u001b[39m     .str.strip(\u001b[33m'\u001b[39m\u001b[33m_\u001b[39m\u001b[33m'\u001b[39m)                               \u001b[38;5;66;03m# Bỏ \"_\" dư đầu-cuối\u001b[39;00m\n\u001b[32m     29\u001b[39m )\n",
      "\u001b[36mFile \u001b[39m\u001b[32me:\\DUT_Linh\\HK6\\KHDL\\final_term_2\\.venv\\Lib\\site-packages\\pandas\\core\\frame.py:4108\u001b[39m, in \u001b[36mDataFrame.__getitem__\u001b[39m\u001b[34m(self, key)\u001b[39m\n\u001b[32m   4106\u001b[39m     \u001b[38;5;28;01mif\u001b[39;00m is_iterator(key):\n\u001b[32m   4107\u001b[39m         key = \u001b[38;5;28mlist\u001b[39m(key)\n\u001b[32m-> \u001b[39m\u001b[32m4108\u001b[39m     indexer = \u001b[38;5;28;43mself\u001b[39;49m\u001b[43m.\u001b[49m\u001b[43mcolumns\u001b[49m\u001b[43m.\u001b[49m\u001b[43m_get_indexer_strict\u001b[49m\u001b[43m(\u001b[49m\u001b[43mkey\u001b[49m\u001b[43m,\u001b[49m\u001b[43m \u001b[49m\u001b[33;43m\"\u001b[39;49m\u001b[33;43mcolumns\u001b[39;49m\u001b[33;43m\"\u001b[39;49m\u001b[43m)\u001b[49m[\u001b[32m1\u001b[39m]\n\u001b[32m   4110\u001b[39m \u001b[38;5;66;03m# take() does not accept boolean indexers\u001b[39;00m\n\u001b[32m   4111\u001b[39m \u001b[38;5;28;01mif\u001b[39;00m \u001b[38;5;28mgetattr\u001b[39m(indexer, \u001b[33m\"\u001b[39m\u001b[33mdtype\u001b[39m\u001b[33m\"\u001b[39m, \u001b[38;5;28;01mNone\u001b[39;00m) == \u001b[38;5;28mbool\u001b[39m:\n",
      "\u001b[36mFile \u001b[39m\u001b[32me:\\DUT_Linh\\HK6\\KHDL\\final_term_2\\.venv\\Lib\\site-packages\\pandas\\core\\indexes\\base.py:6200\u001b[39m, in \u001b[36mIndex._get_indexer_strict\u001b[39m\u001b[34m(self, key, axis_name)\u001b[39m\n\u001b[32m   6197\u001b[39m \u001b[38;5;28;01melse\u001b[39;00m:\n\u001b[32m   6198\u001b[39m     keyarr, indexer, new_indexer = \u001b[38;5;28mself\u001b[39m._reindex_non_unique(keyarr)\n\u001b[32m-> \u001b[39m\u001b[32m6200\u001b[39m \u001b[38;5;28;43mself\u001b[39;49m\u001b[43m.\u001b[49m\u001b[43m_raise_if_missing\u001b[49m\u001b[43m(\u001b[49m\u001b[43mkeyarr\u001b[49m\u001b[43m,\u001b[49m\u001b[43m \u001b[49m\u001b[43mindexer\u001b[49m\u001b[43m,\u001b[49m\u001b[43m \u001b[49m\u001b[43maxis_name\u001b[49m\u001b[43m)\u001b[49m\n\u001b[32m   6202\u001b[39m keyarr = \u001b[38;5;28mself\u001b[39m.take(indexer)\n\u001b[32m   6203\u001b[39m \u001b[38;5;28;01mif\u001b[39;00m \u001b[38;5;28misinstance\u001b[39m(key, Index):\n\u001b[32m   6204\u001b[39m     \u001b[38;5;66;03m# GH 42790 - Preserve name from an Index\u001b[39;00m\n",
      "\u001b[36mFile \u001b[39m\u001b[32me:\\DUT_Linh\\HK6\\KHDL\\final_term_2\\.venv\\Lib\\site-packages\\pandas\\core\\indexes\\base.py:6252\u001b[39m, in \u001b[36mIndex._raise_if_missing\u001b[39m\u001b[34m(self, key, indexer, axis_name)\u001b[39m\n\u001b[32m   6249\u001b[39m     \u001b[38;5;28;01mraise\u001b[39;00m \u001b[38;5;167;01mKeyError\u001b[39;00m(\u001b[33mf\u001b[39m\u001b[33m\"\u001b[39m\u001b[33mNone of [\u001b[39m\u001b[38;5;132;01m{\u001b[39;00mkey\u001b[38;5;132;01m}\u001b[39;00m\u001b[33m] are in the [\u001b[39m\u001b[38;5;132;01m{\u001b[39;00maxis_name\u001b[38;5;132;01m}\u001b[39;00m\u001b[33m]\u001b[39m\u001b[33m\"\u001b[39m)\n\u001b[32m   6251\u001b[39m not_found = \u001b[38;5;28mlist\u001b[39m(ensure_index(key)[missing_mask.nonzero()[\u001b[32m0\u001b[39m]].unique())\n\u001b[32m-> \u001b[39m\u001b[32m6252\u001b[39m \u001b[38;5;28;01mraise\u001b[39;00m \u001b[38;5;167;01mKeyError\u001b[39;00m(\u001b[33mf\u001b[39m\u001b[33m\"\u001b[39m\u001b[38;5;132;01m{\u001b[39;00mnot_found\u001b[38;5;132;01m}\u001b[39;00m\u001b[33m not in index\u001b[39m\u001b[33m\"\u001b[39m)\n",
      "\u001b[31mKeyError\u001b[39m: \"['CASE_THICKNESS'] not in index\""
     ]
    }
   ],
   "source": [
    "import pandas as pd\n",
    "\n",
    "# Giả sử df là DataFrame gốc\n",
    "cols = [\n",
    "    'Price',\n",
    "    'CASE_MATERIAL',\n",
    "    'BAND_MATERIAL',\n",
    "    'CASE_BACK',\n",
    "    'BEZEL_MATERIAL',\n",
    "    'BRAND',\n",
    "    'GENDER',\n",
    "    'MOVEMENT',\n",
    "    'WATCH_STYLE',\n",
    "    'CASE_DIAMETER',\n",
    "    'WATER_RESISTANCE',\n",
    "    'CASE_THICKNESS'\n",
    "]\n",
    "\n",
    "# Lấy ra subset\n",
    "df_sub = df[cols].copy()\n",
    "\n",
    "# Chuẩn hóa tên cột về lowercase + underscore\n",
    "df_sub.columns = (\n",
    "    df_sub.columns\n",
    "    .str.strip()                                  # Bỏ khoảng trắng đầu-cuối\n",
    "    .str.lower()                                  # Chuyển về chữ thường\n",
    "    .str.replace(r'[^a-z0-9]+', '_', regex=True)  # Thay ký tự lạ (space, slash, v.v.) thành \"_\"\n",
    "    .str.strip('_')                               # Bỏ \"_\" dư đầu-cuối\n",
    ")\n",
    "\n",
    "print(df_sub.columns)\n",
    "# Index(['price', 'case_material', 'band_material', 'case_back',\n",
    "#        'bezel_material', 'brand', 'genders', 'movement',\n",
    "#        'watch_style', 'case_diameter', 'water_resistance',\n",
    "#        'case_thickness'], dtype='object')\n"
   ]
  },
  {
   "cell_type": "code",
   "execution_count": null,
   "id": "41d6a8e1",
   "metadata": {},
   "outputs": [],
   "source": []
  }
 ],
 "metadata": {
  "kernelspec": {
   "display_name": ".venv",
   "language": "python",
   "name": "python3"
  },
  "language_info": {
   "codemirror_mode": {
    "name": "ipython",
    "version": 3
   },
   "file_extension": ".py",
   "mimetype": "text/x-python",
   "name": "python",
   "nbconvert_exporter": "python",
   "pygments_lexer": "ipython3",
   "version": "3.13.3"
  }
 },
 "nbformat": 4,
 "nbformat_minor": 5
}
