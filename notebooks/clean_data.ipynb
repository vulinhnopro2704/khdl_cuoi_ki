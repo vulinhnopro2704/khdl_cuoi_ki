{
 "cells": [
  {
   "cell_type": "markdown",
   "id": "509fcd89",
   "metadata": {},
   "source": [
    "# Clean data, handle missing values, encode categorical variables, feature engineering, Split train and test sets\n"
   ]
  },
  {
   "cell_type": "markdown",
   "id": "1c611fd2",
   "metadata": {},
   "source": [
    "# 1 Clean Data\n"
   ]
  },
  {
   "cell_type": "code",
   "execution_count": null,
   "id": "a7e6e8f9",
   "metadata": {
    "vscode": {
     "languageId": "shellscript"
    }
   },
   "outputs": [],
   "source": [
    "pip install seaborn matplotlib pandas numpy"
   ]
  },
  {
   "cell_type": "code",
   "execution_count": 3,
   "id": "edb3ace4",
   "metadata": {},
   "outputs": [],
   "source": [
    "import numpy as np\n",
    "import pandas as pd\n",
    "import seaborn as sns\n",
    "import matplotlib.pyplot as plt"
   ]
  },
  {
   "cell_type": "code",
   "execution_count": 4,
   "id": "88992f5f",
   "metadata": {},
   "outputs": [],
   "source": [
    "# Load craw data from csv file\n",
    "df = pd.read_csv('../data/products.csv')"
   ]
  },
  {
   "cell_type": "code",
   "execution_count": 6,
   "id": "6ca81507",
   "metadata": {},
   "outputs": [
    {
     "data": {
      "text/plain": [
       "(2585, 38)"
      ]
     },
     "execution_count": 6,
     "metadata": {},
     "output_type": "execute_result"
    }
   ],
   "source": [
    "# Check shape of the data\n",
    "df.shape"
   ]
  },
  {
   "cell_type": "code",
   "execution_count": 10,
   "id": "8f9b3d32",
   "metadata": {},
   "outputs": [
    {
     "name": "stdout",
     "output_type": "stream",
     "text": [
      "URL                  0.000000\n",
      "Price                3.326886\n",
      "BOX_TYPE            10.328820\n",
      "CASE_DIAMETER       11.528046\n",
      "CASE_THICKNESS      44.603482\n",
      "CASE_MATERIAL        8.549323\n",
      "CASE_SHAPE           8.704062\n",
      "CASE_BACK           21.740812\n",
      "BAND_MATERIAL        5.067698\n",
      "BAND_TYPE            6.034816\n",
      "BAND_COLOR          13.810445\n",
      "CLASP               22.707930\n",
      "DIAL_COLOR          15.551257\n",
      "TYPE                15.551257\n",
      "CRYSTAL             18.452611\n",
      "HANDS               17.911025\n",
      "DIAL_MARKERS        20.193424\n",
      "SECOND_MARKERS      40.464217\n",
      "BEZEL               19.419729\n",
      "BEZEL_COLOR         31.063830\n",
      "BEZEL_MATERIAL      20.657640\n",
      "BRAND               10.290135\n",
      "COLLECTION_NAME     18.878143\n",
      "GENDER              10.290135\n",
      "MODEL               10.290135\n",
      "WATCH_LABEL         30.483559\n",
      "MOVEMENT            14.816248\n",
      "ENGINE              47.543520\n",
      "WATER_RESISTANCE    18.297872\n",
      "CALENDAR            47.311412\n",
      "FUNCTIONS           15.628627\n",
      "WATCH_FEATURES      11.798839\n",
      "WATCH_STYLE         16.866538\n",
      "WARRANTY            20.000000\n",
      "JOMASHOP_SKU        11.566731\n",
      "DEPARTMENT          11.566731\n",
      "CATEGORY            36.595745\n",
      "CROWN               38.259188\n",
      "dtype: float64\n"
     ]
    }
   ],
   "source": [
    "# Check missing values and % data missing\n",
    "print(df.isnull().sum() / df.shape[0] * 100)"
   ]
  },
  {
   "cell_type": "code",
   "execution_count": 31,
   "id": "f16c77fc",
   "metadata": {},
   "outputs": [
    {
     "name": "stdout",
     "output_type": "stream",
     "text": [
      "Còn lại các cột:\n",
      "['Price', 'CASE_DIAMETER', 'CASE_THICKNESS', 'CASE_MATERIAL', 'CASE_SHAPE', 'CASE_BACK', 'BAND_MATERIAL', 'BAND_TYPE', 'BAND_COLOR', 'CLASP', 'DIAL_COLOR', 'TYPE', 'CRYSTAL', 'HANDS', 'DIAL_MARKERS', 'SECOND_MARKERS', 'BEZEL', 'BEZEL_COLOR', 'BEZEL_MATERIAL', 'BRAND', 'COLLECTION_NAME', 'GENDER', 'MODEL', 'MOVEMENT', 'ENGINE', 'WATER_RESISTANCE', 'CALENDAR', 'FUNCTIONS', 'WATCH_FEATURES', 'WATCH_STYLE', 'WARRANTY']\n"
     ]
    }
   ],
   "source": [
    "# Remove redundant columns that are not needed for analysis machine learning\n",
    "cols_to_drop = ['URL', 'JOMASHOP_SKU', 'DEPARTMENT', 'CATEGORY', 'CROWN', 'WATCH_LABEL']\n",
    "# Drop columns if exists\n",
    "for col in cols_to_drop:\n",
    "    if col in df.columns:\n",
    "        df.drop(col, axis=1, inplace=True) \n",
    "print(\"Còn lại các cột:\")\n",
    "print(df.columns.tolist())\n",
    "df.to_csv('../data/products_cleaned.csv', index=False)"
   ]
  },
  {
   "cell_type": "code",
   "execution_count": null,
   "id": "311d15c7",
   "metadata": {},
   "outputs": [],
   "source": [
    "# Save cleaned data to a new csv file\n",
    "df.to_csv('../data/products_cleaned.csv', index=False)"
   ]
  },
  {
   "cell_type": "code",
   "execution_count": 32,
   "id": "e9ece1d1",
   "metadata": {},
   "outputs": [
    {
     "name": "stdout",
     "output_type": "stream",
     "text": [
      "Columns with more than 30.0% missing values: ['CASE_THICKNESS', 'SECOND_MARKERS', 'ENGINE', 'CALENDAR']\n"
     ]
    }
   ],
   "source": [
    "# Ngưỡng 30% (threshold = 0.3): loại bỏ tất cả các cột có ≥ 30% giá trị thiếu.\n",
    "# Các cột vượt ngưỡng:\n",
    "# CASE_THICKNESS (44.6%)\n",
    "# SECOND_MARKERS (40.5%)\n",
    "# ENGINE (47.5%)\n",
    "# CALENDAR (47.3%)\n",
    "# CROWN (38.3%)\n",
    "# CATEGORY (36.6%)\n",
    "# WATCH_LABEL (30.5%)\n",
    "# BEZEL_COLOR (31.1%)\n",
    "# Ngưỡng 40% (threshold = 0.4): chỉ loại những cột missing ≥ 40%.\n",
    "# CASE_THICKNESS, SECOND_MARKERS, ENGINE, CALENDAR\n",
    "# Remove columns with more than 30% missing values\n",
    "threshold = 0.3\n",
    "missing_cols = df.columns[df.isnull().mean() > threshold]\n",
    "print(f\"Columns with more than {threshold * 100}% missing values: {missing_cols.tolist()}\")\n",
    "df = df.drop(columns=missing_cols)\n",
    "# Save cleaned data to a new csv file\n",
    "df.to_csv('../data/products_cleaned.csv', index=False)"
   ]
  },
  {
   "cell_type": "code",
   "execution_count": 17,
   "id": "05d7b1af",
   "metadata": {},
   "outputs": [
    {
     "data": {
      "application/vnd.microsoft.datawrangler.viewer.v0+json": {
       "columns": [
        {
         "name": "index",
         "rawType": "int64",
         "type": "integer"
        },
        {
         "name": "Price",
         "rawType": "float64",
         "type": "float"
        },
        {
         "name": "BOX_TYPE",
         "rawType": "object",
         "type": "unknown"
        },
        {
         "name": "CASE_DIAMETER",
         "rawType": "object",
         "type": "string"
        },
        {
         "name": "CASE_THICKNESS",
         "rawType": "object",
         "type": "unknown"
        },
        {
         "name": "CASE_MATERIAL",
         "rawType": "object",
         "type": "string"
        },
        {
         "name": "CASE_SHAPE",
         "rawType": "object",
         "type": "string"
        },
        {
         "name": "CASE_BACK",
         "rawType": "object",
         "type": "unknown"
        },
        {
         "name": "BAND_MATERIAL",
         "rawType": "object",
         "type": "string"
        },
        {
         "name": "BAND_TYPE",
         "rawType": "object",
         "type": "string"
        },
        {
         "name": "BAND_COLOR",
         "rawType": "object",
         "type": "string"
        },
        {
         "name": "CLASP",
         "rawType": "object",
         "type": "unknown"
        },
        {
         "name": "DIAL_COLOR",
         "rawType": "object",
         "type": "string"
        },
        {
         "name": "TYPE",
         "rawType": "object",
         "type": "string"
        },
        {
         "name": "CRYSTAL",
         "rawType": "object",
         "type": "unknown"
        },
        {
         "name": "HANDS",
         "rawType": "object",
         "type": "string"
        },
        {
         "name": "DIAL_MARKERS",
         "rawType": "object",
         "type": "string"
        },
        {
         "name": "SECOND_MARKERS",
         "rawType": "object",
         "type": "string"
        },
        {
         "name": "BEZEL",
         "rawType": "object",
         "type": "string"
        },
        {
         "name": "BEZEL_COLOR",
         "rawType": "object",
         "type": "string"
        },
        {
         "name": "BEZEL_MATERIAL",
         "rawType": "object",
         "type": "string"
        },
        {
         "name": "BRAND",
         "rawType": "object",
         "type": "string"
        },
        {
         "name": "COLLECTION_NAME",
         "rawType": "object",
         "type": "string"
        },
        {
         "name": "GENDER",
         "rawType": "object",
         "type": "string"
        },
        {
         "name": "MODEL",
         "rawType": "object",
         "type": "string"
        },
        {
         "name": "WATCH_LABEL",
         "rawType": "object",
         "type": "unknown"
        },
        {
         "name": "MOVEMENT",
         "rawType": "object",
         "type": "string"
        },
        {
         "name": "ENGINE",
         "rawType": "object",
         "type": "unknown"
        },
        {
         "name": "WATER_RESISTANCE",
         "rawType": "object",
         "type": "unknown"
        },
        {
         "name": "CALENDAR",
         "rawType": "object",
         "type": "string"
        },
        {
         "name": "FUNCTIONS",
         "rawType": "object",
         "type": "string"
        },
        {
         "name": "WATCH_FEATURES",
         "rawType": "object",
         "type": "string"
        },
        {
         "name": "WATCH_STYLE",
         "rawType": "object",
         "type": "string"
        },
        {
         "name": "WARRANTY",
         "rawType": "object",
         "type": "unknown"
        },
        {
         "name": "DEPARTMENT",
         "rawType": "object",
         "type": "string"
        },
        {
         "name": "CATEGORY",
         "rawType": "object",
         "type": "string"
        },
        {
         "name": "CROWN",
         "rawType": "object",
         "type": "unknown"
        }
       ],
       "ref": "2c59f68d-ac4f-417a-b7ee-33688b4933f3",
       "rows": [
        [
         "0",
         "534.0",
         "Original Box",
         "40 mm",
         "10.9 mm",
         "Stainless Steel",
         "Tonneau",
         "Transparent",
         "Stainless Steel",
         "Bracelet",
         "Silver-tone",
         "Fold Over with Safety Release",
         "Blue",
         "Analog",
         "Scratch Resistant Sapphire",
         "Luminous Silver-tone",
         "Index",
         "Minute Markers around the outer rim",
         "Fixed",
         "Silver-tone",
         "Stainless Steel",
         "Tissot",
         "PRX",
         "Mens",
         "T137.407.11.041.00",
         "Swiss Made",
         "Automatic",
         "Powermatic 80.111",
         "100 meters / 330 feet",
         "Date display at the 3 o'clock position",
         "Date, Hour, Minute, Second",
         "Analog, Stainless Steel",
         "Casual",
         "2 Year Jomashop Warranty",
         "Watches",
         "Watches",
         null
        ],
        [
         "1",
         "534.0",
         "Original Box",
         "40 mm",
         "10.9 mm",
         "Stainless Steel",
         "Tonneau",
         "Transparent",
         "Stainless Steel",
         "Bracelet",
         "Silver-tone",
         "Fold Over with Safety Release",
         "Blue",
         "Analog",
         "Scratch Resistant Sapphire",
         "Luminous Silver-tone",
         "Index",
         "Minute Markers around the outer rim",
         "Fixed",
         "Silver-tone",
         "Stainless Steel",
         "Tissot",
         "PRX",
         "Mens",
         "T137.407.11.041.00",
         "Swiss Made",
         "Automatic",
         "Powermatic 80.111",
         "100 meters / 330 feet",
         "Date display at the 3 o'clock position",
         "Date, Hour, Minute, Second",
         "Analog, Stainless Steel",
         "Casual",
         "2 Year Jomashop Warranty",
         "Watches",
         "Watches",
         null
        ],
        [
         "2",
         "27750.0",
         null,
         "44 mm",
         null,
         "Titanium",
         "Octagon",
         null,
         "Titanium",
         "Bracelet",
         "Grey",
         "Deployment with Push Button Release",
         "Black",
         "Analog",
         "Scratch Resistant Sapphire",
         "Luminous",
         "Index and Arabic numeral",
         "Minute Markers around the outer rim",
         "Fixed",
         "Grey",
         "Titanium",
         "Audemars Piguet",
         "Royal Oak Offshore",
         "Mens",
         "25995IP.OO.1000TI.01",
         "Swiss Made",
         "Automatic",
         null,
         null,
         "Date sub-dial at the 2 o'clock position",
         "Date, Second Time Zone, Hour, Minute, Second",
         "Analog, Power Reserve Indicator, Titanium, Time Zone",
         "Luxury",
         "1 Year Jomashop Warranty",
         "Watches",
         "Watches",
         null
        ],
        [
         "3",
         "88.0",
         "Original Box",
         "42 mm",
         "14 mm",
         "Alloy",
         "Round",
         null,
         "Leather",
         "Strap",
         "Blue",
         null,
         "Blue",
         "Analog",
         null,
         "Silver-tone",
         "Arabic Numeral",
         "Minute Markers around the outer rim",
         "Fixed",
         "Silver-tone",
         "Alloy",
         "Stuhrling Original",
         "Monaco",
         "Mens",
         "M17970",
         null,
         "Quartz",
         null,
         null,
         "Date display at the 6 o'clock position",
         "Chronograph, Date, Hour, Minute, Second",
         "Month, Analog, Leather, Chronograph",
         "Casual",
         null,
         "Watches",
         "Watches",
         null
        ],
        [
         "4",
         "9318.0",
         null,
         "40 mm",
         "12 mm",
         "Stainless Steel",
         "Round",
         "Solid",
         "Stainless Steel Oyster",
         "Bracelet",
         "Silver-tone",
         "Fold Over with Safety Release",
         "Black",
         "Analog",
         "Scratch Resistant Sapphire",
         "Silver-tone",
         "Index",
         "Minute Markers around the outer rim",
         "Fixed",
         "Silver-tone",
         "Stainless Steel",
         "Rolex",
         "Explorer II",
         "Mens",
         "16570T BKSO",
         "Swiss Made",
         "Automatic",
         "Rolex Calibre 3186",
         "100 meters / 330 feet",
         "Date Display at the 3 o'clock position",
         "Date, GMT, Second Time Zone, Hour, Minute, Second, Chronometer",
         "Time Zone, Stainless Steel, Analog, GMT, Chronometer",
         "Luxury",
         "1 Year Jomashop Warranty",
         "Watches",
         "Watches",
         "Screw Down"
        ]
       ],
       "shape": {
        "columns": 36,
        "rows": 5
       }
      },
      "text/html": [
       "<div>\n",
       "<style scoped>\n",
       "    .dataframe tbody tr th:only-of-type {\n",
       "        vertical-align: middle;\n",
       "    }\n",
       "\n",
       "    .dataframe tbody tr th {\n",
       "        vertical-align: top;\n",
       "    }\n",
       "\n",
       "    .dataframe thead th {\n",
       "        text-align: right;\n",
       "    }\n",
       "</style>\n",
       "<table border=\"1\" class=\"dataframe\">\n",
       "  <thead>\n",
       "    <tr style=\"text-align: right;\">\n",
       "      <th></th>\n",
       "      <th>Price</th>\n",
       "      <th>BOX_TYPE</th>\n",
       "      <th>CASE_DIAMETER</th>\n",
       "      <th>CASE_THICKNESS</th>\n",
       "      <th>CASE_MATERIAL</th>\n",
       "      <th>CASE_SHAPE</th>\n",
       "      <th>CASE_BACK</th>\n",
       "      <th>BAND_MATERIAL</th>\n",
       "      <th>BAND_TYPE</th>\n",
       "      <th>BAND_COLOR</th>\n",
       "      <th>...</th>\n",
       "      <th>ENGINE</th>\n",
       "      <th>WATER_RESISTANCE</th>\n",
       "      <th>CALENDAR</th>\n",
       "      <th>FUNCTIONS</th>\n",
       "      <th>WATCH_FEATURES</th>\n",
       "      <th>WATCH_STYLE</th>\n",
       "      <th>WARRANTY</th>\n",
       "      <th>DEPARTMENT</th>\n",
       "      <th>CATEGORY</th>\n",
       "      <th>CROWN</th>\n",
       "    </tr>\n",
       "  </thead>\n",
       "  <tbody>\n",
       "    <tr>\n",
       "      <th>0</th>\n",
       "      <td>534.0</td>\n",
       "      <td>Original Box</td>\n",
       "      <td>40 mm</td>\n",
       "      <td>10.9 mm</td>\n",
       "      <td>Stainless Steel</td>\n",
       "      <td>Tonneau</td>\n",
       "      <td>Transparent</td>\n",
       "      <td>Stainless Steel</td>\n",
       "      <td>Bracelet</td>\n",
       "      <td>Silver-tone</td>\n",
       "      <td>...</td>\n",
       "      <td>Powermatic 80.111</td>\n",
       "      <td>100 meters / 330 feet</td>\n",
       "      <td>Date display at the 3 o'clock position</td>\n",
       "      <td>Date, Hour, Minute, Second</td>\n",
       "      <td>Analog, Stainless Steel</td>\n",
       "      <td>Casual</td>\n",
       "      <td>2 Year Jomashop Warranty</td>\n",
       "      <td>Watches</td>\n",
       "      <td>Watches</td>\n",
       "      <td>NaN</td>\n",
       "    </tr>\n",
       "    <tr>\n",
       "      <th>1</th>\n",
       "      <td>534.0</td>\n",
       "      <td>Original Box</td>\n",
       "      <td>40 mm</td>\n",
       "      <td>10.9 mm</td>\n",
       "      <td>Stainless Steel</td>\n",
       "      <td>Tonneau</td>\n",
       "      <td>Transparent</td>\n",
       "      <td>Stainless Steel</td>\n",
       "      <td>Bracelet</td>\n",
       "      <td>Silver-tone</td>\n",
       "      <td>...</td>\n",
       "      <td>Powermatic 80.111</td>\n",
       "      <td>100 meters / 330 feet</td>\n",
       "      <td>Date display at the 3 o'clock position</td>\n",
       "      <td>Date, Hour, Minute, Second</td>\n",
       "      <td>Analog, Stainless Steel</td>\n",
       "      <td>Casual</td>\n",
       "      <td>2 Year Jomashop Warranty</td>\n",
       "      <td>Watches</td>\n",
       "      <td>Watches</td>\n",
       "      <td>NaN</td>\n",
       "    </tr>\n",
       "    <tr>\n",
       "      <th>2</th>\n",
       "      <td>27750.0</td>\n",
       "      <td>NaN</td>\n",
       "      <td>44 mm</td>\n",
       "      <td>NaN</td>\n",
       "      <td>Titanium</td>\n",
       "      <td>Octagon</td>\n",
       "      <td>NaN</td>\n",
       "      <td>Titanium</td>\n",
       "      <td>Bracelet</td>\n",
       "      <td>Grey</td>\n",
       "      <td>...</td>\n",
       "      <td>NaN</td>\n",
       "      <td>NaN</td>\n",
       "      <td>Date sub-dial at the 2 o'clock position</td>\n",
       "      <td>Date, Second Time Zone, Hour, Minute, Second</td>\n",
       "      <td>Analog, Power Reserve Indicator, Titanium, Tim...</td>\n",
       "      <td>Luxury</td>\n",
       "      <td>1 Year Jomashop Warranty</td>\n",
       "      <td>Watches</td>\n",
       "      <td>Watches</td>\n",
       "      <td>NaN</td>\n",
       "    </tr>\n",
       "    <tr>\n",
       "      <th>3</th>\n",
       "      <td>88.0</td>\n",
       "      <td>Original Box</td>\n",
       "      <td>42 mm</td>\n",
       "      <td>14 mm</td>\n",
       "      <td>Alloy</td>\n",
       "      <td>Round</td>\n",
       "      <td>NaN</td>\n",
       "      <td>Leather</td>\n",
       "      <td>Strap</td>\n",
       "      <td>Blue</td>\n",
       "      <td>...</td>\n",
       "      <td>NaN</td>\n",
       "      <td>NaN</td>\n",
       "      <td>Date display at the 6 o'clock position</td>\n",
       "      <td>Chronograph, Date, Hour, Minute, Second</td>\n",
       "      <td>Month, Analog, Leather, Chronograph</td>\n",
       "      <td>Casual</td>\n",
       "      <td>NaN</td>\n",
       "      <td>Watches</td>\n",
       "      <td>Watches</td>\n",
       "      <td>NaN</td>\n",
       "    </tr>\n",
       "    <tr>\n",
       "      <th>4</th>\n",
       "      <td>9318.0</td>\n",
       "      <td>NaN</td>\n",
       "      <td>40 mm</td>\n",
       "      <td>12 mm</td>\n",
       "      <td>Stainless Steel</td>\n",
       "      <td>Round</td>\n",
       "      <td>Solid</td>\n",
       "      <td>Stainless Steel Oyster</td>\n",
       "      <td>Bracelet</td>\n",
       "      <td>Silver-tone</td>\n",
       "      <td>...</td>\n",
       "      <td>Rolex Calibre 3186</td>\n",
       "      <td>100 meters / 330 feet</td>\n",
       "      <td>Date Display at the 3 o'clock position</td>\n",
       "      <td>Date, GMT, Second Time Zone, Hour, Minute, Sec...</td>\n",
       "      <td>Time Zone, Stainless Steel, Analog, GMT, Chron...</td>\n",
       "      <td>Luxury</td>\n",
       "      <td>1 Year Jomashop Warranty</td>\n",
       "      <td>Watches</td>\n",
       "      <td>Watches</td>\n",
       "      <td>Screw Down</td>\n",
       "    </tr>\n",
       "  </tbody>\n",
       "</table>\n",
       "<p>5 rows × 36 columns</p>\n",
       "</div>"
      ],
      "text/plain": [
       "     Price      BOX_TYPE CASE_DIAMETER CASE_THICKNESS    CASE_MATERIAL  \\\n",
       "0    534.0  Original Box         40 mm        10.9 mm  Stainless Steel   \n",
       "1    534.0  Original Box         40 mm        10.9 mm  Stainless Steel   \n",
       "2  27750.0           NaN         44 mm            NaN         Titanium   \n",
       "3     88.0  Original Box         42 mm          14 mm            Alloy   \n",
       "4   9318.0           NaN         40 mm          12 mm  Stainless Steel   \n",
       "\n",
       "  CASE_SHAPE    CASE_BACK           BAND_MATERIAL BAND_TYPE   BAND_COLOR  ...  \\\n",
       "0    Tonneau  Transparent         Stainless Steel  Bracelet  Silver-tone  ...   \n",
       "1    Tonneau  Transparent         Stainless Steel  Bracelet  Silver-tone  ...   \n",
       "2    Octagon          NaN                Titanium  Bracelet         Grey  ...   \n",
       "3      Round          NaN                 Leather     Strap         Blue  ...   \n",
       "4      Round        Solid  Stainless Steel Oyster  Bracelet  Silver-tone  ...   \n",
       "\n",
       "               ENGINE       WATER_RESISTANCE  \\\n",
       "0   Powermatic 80.111  100 meters / 330 feet   \n",
       "1   Powermatic 80.111  100 meters / 330 feet   \n",
       "2                 NaN                    NaN   \n",
       "3                 NaN                    NaN   \n",
       "4  Rolex Calibre 3186  100 meters / 330 feet   \n",
       "\n",
       "                                  CALENDAR  \\\n",
       "0   Date display at the 3 o'clock position   \n",
       "1   Date display at the 3 o'clock position   \n",
       "2  Date sub-dial at the 2 o'clock position   \n",
       "3   Date display at the 6 o'clock position   \n",
       "4   Date Display at the 3 o'clock position   \n",
       "\n",
       "                                           FUNCTIONS  \\\n",
       "0                         Date, Hour, Minute, Second   \n",
       "1                         Date, Hour, Minute, Second   \n",
       "2       Date, Second Time Zone, Hour, Minute, Second   \n",
       "3            Chronograph, Date, Hour, Minute, Second   \n",
       "4  Date, GMT, Second Time Zone, Hour, Minute, Sec...   \n",
       "\n",
       "                                      WATCH_FEATURES WATCH_STYLE  \\\n",
       "0                            Analog, Stainless Steel      Casual   \n",
       "1                            Analog, Stainless Steel      Casual   \n",
       "2  Analog, Power Reserve Indicator, Titanium, Tim...      Luxury   \n",
       "3                Month, Analog, Leather, Chronograph      Casual   \n",
       "4  Time Zone, Stainless Steel, Analog, GMT, Chron...      Luxury   \n",
       "\n",
       "                   WARRANTY DEPARTMENT CATEGORY       CROWN  \n",
       "0  2 Year Jomashop Warranty    Watches  Watches         NaN  \n",
       "1  2 Year Jomashop Warranty    Watches  Watches         NaN  \n",
       "2  1 Year Jomashop Warranty    Watches  Watches         NaN  \n",
       "3                       NaN    Watches  Watches         NaN  \n",
       "4  1 Year Jomashop Warranty    Watches  Watches  Screw Down  \n",
       "\n",
       "[5 rows x 36 columns]"
      ]
     },
     "execution_count": 17,
     "metadata": {},
     "output_type": "execute_result"
    }
   ],
   "source": [
    "# Standardize price column, remove all record that missing price\n",
    "df = df[df['Price'].notna() & (df['Price'].astype(str).str.strip() != '')].copy()\n",
    "df['Price'] = (\n",
    "    df['Price']\n",
    "    .astype(str)\n",
    "    .str.extract(r'([\\d,]+\\.?\\d*)')[0]\n",
    ")\n",
    "df = df[df['Price'].notna()].copy()\n",
    "df['Price'] = df['Price'].str.replace(',', '').astype(float)\n",
    "df.head()"
   ]
  },
  {
   "cell_type": "code",
   "execution_count": 18,
   "id": "ed5b1e25",
   "metadata": {},
   "outputs": [
    {
     "name": "stdout",
     "output_type": "stream",
     "text": [
      "Shape of the data after cleaning: (2499, 36)\n"
     ]
    }
   ],
   "source": [
    "# Check the shape of the data after cleaning\n",
    "print(f\"Shape of the data after cleaning: {df.shape}\")"
   ]
  },
  {
   "cell_type": "code",
   "execution_count": 19,
   "id": "081d04f0",
   "metadata": {},
   "outputs": [],
   "source": [
    "# Save cleaned data to a new csv file\n",
    "df.to_csv('../data/products_cleaned.csv', index=False)"
   ]
  },
  {
   "cell_type": "markdown",
   "id": "9375af1a",
   "metadata": {},
   "source": [
    "## Remove all columns that only have one unique value\n"
   ]
  },
  {
   "cell_type": "code",
   "execution_count": null,
   "id": "1ea212e4",
   "metadata": {},
   "outputs": [
    {
     "name": "stdout",
     "output_type": "stream",
     "text": [
      "Unique values in each column:\n",
      "Price               1555\n",
      "BOX_TYPE               1\n",
      "CASE_DIAMETER         44\n",
      "CASE_THICKNESS       274\n",
      "CASE_MATERIAL        160\n",
      "CASE_SHAPE            10\n",
      "CASE_BACK             29\n",
      "BAND_MATERIAL        268\n",
      "BAND_TYPE              2\n",
      "BAND_COLOR           148\n",
      "CLASP                112\n",
      "DIAL_COLOR           302\n",
      "TYPE                   3\n",
      "CRYSTAL               43\n",
      "HANDS                219\n",
      "DIAL_MARKERS         119\n",
      "SECOND_MARKERS       214\n",
      "BEZEL                 70\n",
      "BEZEL_COLOR          126\n",
      "BEZEL_MATERIAL       234\n",
      "BRAND                168\n",
      "COLLECTION_NAME     1035\n",
      "GENDER                 3\n",
      "MODEL               2315\n",
      "WATCH_LABEL           18\n",
      "MOVEMENT               4\n",
      "ENGINE               646\n",
      "WATER_RESISTANCE      33\n",
      "CALENDAR              66\n",
      "FUNCTIONS            263\n",
      "WATCH_FEATURES       464\n",
      "WATCH_STYLE            9\n",
      "WARRANTY               8\n",
      "DEPARTMENT             1\n",
      "CATEGORY               6\n",
      "CROWN                 61\n",
      "dtype: int64\n"
     ]
    }
   ],
   "source": [
    "# Print unique values in each column\n",
    "unique_counts = df.nunique()\n",
    "print(\"Unique values in each column:\")\n",
    "print(unique_counts)"
   ]
  },
  {
   "cell_type": "code",
   "execution_count": 25,
   "id": "408fd16c",
   "metadata": {},
   "outputs": [
    {
     "name": "stdout",
     "output_type": "stream",
     "text": [
      "Shape of the data after removing single unique value columns: (2499, 34)\n"
     ]
    }
   ],
   "source": [
    "# Remove all columns that only have one unique value\n",
    "df = df.loc[:, df.nunique() > 1]\n",
    "print(f\"Shape of the data after removing single unique value columns: {df.shape}\")\n",
    "df.to_csv('../data/products_cleaned.csv', index=False)"
   ]
  },
  {
   "cell_type": "markdown",
   "id": "406f0fa7",
   "metadata": {},
   "source": [
    "## Standardize Unit\n"
   ]
  },
  {
   "cell_type": "code",
   "execution_count": 39,
   "id": "09c58dcf",
   "metadata": {},
   "outputs": [
    {
     "name": "stdout",
     "output_type": "stream",
     "text": [
      "     Price  CASE_DIAMETER  WATER_RESISTANCE  CASE_THICKNESS\n",
      "0    534.0           40.0             100.0            10.9\n",
      "1    534.0           40.0             100.0            10.9\n",
      "2  27750.0           44.0               NaN             NaN\n",
      "3     88.0           42.0               NaN            14.0\n",
      "4   9318.0           40.0             100.0            12.0\n"
     ]
    }
   ],
   "source": [
    "df = pd.read_csv('../data/products_cleaned.csv')\n",
    "# Standardize Unit and remove all unit\n",
    "cols_with_units = {\n",
    "    'CASE_THICKNESS': r'([\\d\\.]+)',                    # mm\n",
    "}\n",
    "\n",
    "for col, regex in cols_with_units.items():\n",
    "    # 1) Extract chuỗi số phù hợp\n",
    "    df[col + '_num'] = df[col].astype(str).str.extract(regex)[0]\n",
    "    \n",
    "    # 2) Loại dấu phẩy (nếu có) rồi ép về float\n",
    "    df[col + '_num'] = df[col + '_num'].str.replace(',', '').astype(float)\n",
    "\n",
    "# Nếu muốn đổi tên và xóa cột gốc:\n",
    "for col in list(cols_with_units):\n",
    "    df = df.drop(columns=[col]).rename(columns={col + '_num': col})\n",
    "\n",
    "# Kiểm tra kết quả\n",
    "print(df[['Price', 'CASE_DIAMETER', 'WATER_RESISTANCE', 'CASE_THICKNESS']].head())"
   ]
  },
  {
   "cell_type": "code",
   "execution_count": 40,
   "id": "77affcb8",
   "metadata": {},
   "outputs": [],
   "source": [
    "df.to_csv('../data/products_cleaned.csv', index=False)"
   ]
  },
  {
   "cell_type": "code",
   "execution_count": 41,
   "id": "17db9fdd",
   "metadata": {},
   "outputs": [
    {
     "name": "stdout",
     "output_type": "stream",
     "text": [
      "Numeric columns:\n",
      "['Price', 'CASE_DIAMETER', 'WATER_RESISTANCE', 'CASE_THICKNESS']\n",
      "Outlier summary:\n",
      "             column     Q1      Q3     IQR  lower_bound  upper_bound  \\\n",
      "0             Price  159.0  8489.0  8330.0     -12336.0      20984.0   \n",
      "1     CASE_DIAMETER   35.0    42.0     7.0         24.5         52.5   \n",
      "2  WATER_RESISTANCE   30.0   100.0    70.0        -75.0        205.0   \n",
      "3    CASE_THICKNESS    9.0    13.0     4.0          3.0         19.0   \n",
      "\n",
      "   outliers_count  \n",
      "0             355  \n",
      "1              71  \n",
      "2             130  \n",
      "3               9  \n"
     ]
    },
    {
     "name": "stderr",
     "output_type": "stream",
     "text": [
      "<>:5: SyntaxWarning: invalid escape sequence '\\d'\n",
      "<>:5: SyntaxWarning: invalid escape sequence '\\d'\n",
      "C:\\Users\\vulin\\AppData\\Local\\Temp\\ipykernel_18400\\255355847.py:5: SyntaxWarning: invalid escape sequence '\\d'\n",
      "  - unit_regex_map: dict mapping tên cột -> regex để extract số (ví dụ r'([\\d\\.]+)' cho '10.9 mm').\n"
     ]
    }
   ],
   "source": [
    "# Check outliers in the all columns\n",
    "def detect_outliers_iqr(df, unit_regex_map=None, multiplier=1.5):\n",
    "    \"\"\"\n",
    "    Phát hiện outlier theo phương pháp IQR trên tất cả cột số:\n",
    "    - unit_regex_map: dict mapping tên cột -> regex để extract số (ví dụ r'([\\d\\.]+)' cho '10.9 mm').\n",
    "    - multiplier: hệ số nhân IQR (thường dùng 1.5).\n",
    "    Trả về DataFrame summary với Q1, Q3, IQR, bounds và số outlier.\n",
    "    \"\"\"\n",
    "    df_clean = df.copy()\n",
    "    \n",
    "    # 1. Nếu có map cột chứa đơn vị, extract và ép float\n",
    "    if unit_regex_map:\n",
    "        for col, regex in unit_regex_map.items():\n",
    "            df_clean[col] = (\n",
    "                df_clean[col].astype(str)\n",
    "                .str.extract(regex)[0]             # lấy nhóm số\n",
    "                .str.replace(',', '')              # bỏ dấu phẩy nếu có\n",
    "            )\n",
    "            df_clean[col] = pd.to_numeric(df_clean[col], errors='coerce')\n",
    "    \n",
    "    # 2. Tự động chọn cột số\n",
    "    num_cols = df_clean.select_dtypes(include=['number']).columns\n",
    "    \n",
    "    # 3. Tính IQR và đếm outliers\n",
    "    summary = []\n",
    "    for col in num_cols:\n",
    "        series = df_clean[col].dropna()\n",
    "        q1 = series.quantile(0.25)\n",
    "        q3 = series.quantile(0.75)\n",
    "        iqr = q3 - q1\n",
    "        lower, upper = q1 - multiplier * iqr, q3 + multiplier * iqr\n",
    "        outlier_count = series[(series < lower) | (series > upper)].shape[0]\n",
    "        \n",
    "        summary.append({\n",
    "            'column': col,\n",
    "            'Q1': q1,\n",
    "            'Q3': q3,\n",
    "            'IQR': iqr,\n",
    "            'lower_bound': lower,\n",
    "            'upper_bound': upper,\n",
    "            'outliers_count': outlier_count\n",
    "        })\n",
    "    \n",
    "    return pd.DataFrame(summary)\n",
    "\n",
    "# Check outliers in the all numeric columns\n",
    "num_cols = df.select_dtypes(include=['number']).columns\n",
    "print(\"Numeric columns:\")\n",
    "print(num_cols.tolist())\n",
    "\n",
    "# Check outliers from num_cols\n",
    "unit_regex_map = {\n",
    "    'CASE_THICKNESS': r'([\\d\\.]+)',                    # mm\n",
    "    'CASE_DIAMETER': r'([\\d\\.]+)',                     # mm\n",
    "    'WATER_RESISTANCE': r'([\\d\\.]+)',                  # m\n",
    "}\n",
    "outlier_summary = detect_outliers_iqr(df, unit_regex_map=unit_regex_map)\n",
    "print(\"Outlier summary:\")\n",
    "print(outlier_summary)"
   ]
  },
  {
   "cell_type": "markdown",
   "id": "02573b64",
   "metadata": {},
   "source": [
    "# Encode Categorical Variables\n"
   ]
  },
  {
   "cell_type": "code",
   "execution_count": 43,
   "id": "407a7d62",
   "metadata": {},
   "outputs": [
    {
     "name": "stdout",
     "output_type": "stream",
     "text": [
      "Distinct values in WARRANTY column:\n",
      "['2 Year Jomashop Warranty' '1 Year Jomashop Warranty'\n",
      " 'With Manufacturers Guarantee' '2 Year jomashop warranty'\n",
      " '4 Year Jomashop Warranty' '5 Year Jomashop Warranty'\n",
      " '3 Year Jomashop Warranty' \"With Manufacturer's Guarantee\"]\n"
     ]
    }
   ],
   "source": [
    "distinct_values = df['WARRANTY'].dropna().unique()\n",
    "print(\"Distinct values in WARRANTY column:\")\n",
    "print(distinct_values)"
   ]
  },
  {
   "cell_type": "code",
   "execution_count": 44,
   "id": "8c9af1c0",
   "metadata": {},
   "outputs": [],
   "source": [
    "df.drop(columns=['WARRANTY'], inplace=True)"
   ]
  },
  {
   "cell_type": "code",
   "execution_count": 46,
   "id": "e8d48fa6",
   "metadata": {},
   "outputs": [
    {
     "name": "stdout",
     "output_type": "stream",
     "text": [
      "Rows with more than 30.0% missing values: 0\n",
      "Shape of the data after dropping rows with more than 30.0% missing values: (2180, 30)\n"
     ]
    }
   ],
   "source": [
    "# Drop all rows that have 30% columns missing\n",
    "threshold = 0.3\n",
    "missing_rows = df[df.isnull().mean(axis=1) > threshold]\n",
    "print(f\"Rows with more than {threshold * 100}% missing values: {missing_rows.shape[0]}\")\n",
    "df = df.dropna(thresh=int(df.shape[1] * (1 - threshold)))\n",
    "print(f\"Shape of the data after dropping rows with more than {threshold * 100}% missing values: {df.shape}\")\n",
    "df.to_csv('../data/products_cleaned.csv', index=False)"
   ]
  },
  {
   "cell_type": "code",
   "execution_count": 65,
   "id": "b6573f3f",
   "metadata": {},
   "outputs": [
    {
     "name": "stderr",
     "output_type": "stream",
     "text": [
      "C:\\Users\\vulin\\AppData\\Local\\Temp\\ipykernel_18400\\2739239445.py:28: UserWarning: No artists with labels found to put in legend.  Note that artists whose label start with an underscore are ignored when legend() is called with no argument.\n",
      "  plt.legend(title='Segment', bbox_to_anchor=(1.05, 1), loc='upper left')\n"
     ]
    },
    {
     "data": {
      "image/png": "[encoded data removed]",
      "text/plain": [
       "<Figure size 800x500 with 1 Axes>"
      ]
     },
     "metadata": {},
     "output_type": "display_data"
    },
    {
     "name": "stderr",
     "output_type": "stream",
     "text": [
      "C:\\Users\\vulin\\AppData\\Local\\Temp\\ipykernel_18400\\2739239445.py:34: FutureWarning: \n",
      "\n",
      "Passing `palette` without assigning `hue` is deprecated and will be removed in v0.14.0. Assign the `x` variable to `hue` and set `legend=False` for the same effect.\n",
      "\n",
      "  sns.boxplot(\n"
     ]
    },
    {
     "data": {
      "image/png": "[encoded data removed]",
      "text/plain": [
       "<Figure size 900x500 with 1 Axes>"
      ]
     },
     "metadata": {},
     "output_type": "display_data"
    },
    {
     "name": "stderr",
     "output_type": "stream",
     "text": [
      "C:\\Users\\vulin\\AppData\\Local\\Temp\\ipykernel_18400\\2739239445.py:50: FutureWarning: \n",
      "\n",
      "Passing `palette` without assigning `hue` is deprecated and will be removed in v0.14.0. Assign the `x` variable to `hue` and set `legend=False` for the same effect.\n",
      "\n",
      "  sns.countplot(\n"
     ]
    },
    {
     "data": {
      "image/png": "[encoded data removed]",
      "text/plain": [
       "<Figure size 800x400 with 1 Axes>"
      ]
     },
     "metadata": {},
     "output_type": "display_data"
    },
    {
     "data": {
      "image/png": "[encoded data removed]",
      "text/plain": [
       "<Figure size 800x500 with 1 Axes>"
      ]
     },
     "metadata": {},
     "output_type": "display_data"
    }
   ],
   "source": [
    "import pandas as pd\n",
    "import matplotlib.pyplot as plt\n",
    "import seaborn as sns\n",
    "\n",
    "# Giả sử df đã load và đã lọc giá > 400_000\n",
    "labels = ['Low', 'Medium', 'High', 'Ultra High', 'Luxury']\n",
    "\n",
    "# q=5 để chia thành 5 nhóm\n",
    "df['Price_Segment'] = pd.qcut(df['Price'], q=5, labels=labels)\n",
    "\n",
    "# Đảm bảo thứ tự hiển thị\n",
    "order = labels\n",
    "\n",
    "# 1) Histogram\n",
    "plt.figure(figsize=(8, 5))\n",
    "sns.histplot(\n",
    "    data=df,\n",
    "    x='Price',\n",
    "    hue='Price_Segment',\n",
    "    bins=30,\n",
    "    palette='tab10',\n",
    "    multiple='stack',\n",
    "    hue_order=order\n",
    ")\n",
    "plt.title(\"Phân phối giá theo 5 phân khúc (Histogram)\")\n",
    "plt.xlabel(\"Price\")\n",
    "plt.ylabel(\"Count\")\n",
    "plt.legend(title='Segment', bbox_to_anchor=(1.05, 1), loc='upper left')\n",
    "plt.tight_layout()\n",
    "plt.show()\n",
    "\n",
    "# 2) Boxplot\n",
    "plt.figure(figsize=(9, 5))\n",
    "sns.boxplot(\n",
    "    data=df,\n",
    "    x='Price_Segment',\n",
    "    y='Price',\n",
    "    order=order,\n",
    "    palette='Set3'\n",
    ")\n",
    "plt.title(\"Boxplot giá theo 5 phân khúc\")\n",
    "plt.xlabel(\"Price Segment\")\n",
    "plt.ylabel(\"Price\")\n",
    "plt.xticks(rotation=30)\n",
    "plt.tight_layout()\n",
    "plt.show()\n",
    "\n",
    "# 3) Countplot\n",
    "plt.figure(figsize=(8, 4))\n",
    "sns.countplot(\n",
    "    data=df,\n",
    "    x='Price_Segment',\n",
    "    order=order,\n",
    "    palette='pastel'\n",
    ")\n",
    "plt.title(\"Số lượng sản phẩm theo 5 phân khúc\")\n",
    "plt.xlabel(\"Price Segment\")\n",
    "plt.ylabel(\"Count\")\n",
    "plt.xticks(rotation=30)\n",
    "plt.tight_layout()\n",
    "plt.show()\n",
    "\n",
    "# 4) KDE Plot\n",
    "plt.figure(figsize=(8, 5))\n",
    "for seg in order:\n",
    "    sns.kdeplot(\n",
    "        data=df[df['Price_Segment'] == seg]['Price'],\n",
    "        label=seg,\n",
    "        fill=True\n",
    "    )\n",
    "plt.title(\"Mật độ phân phối giá theo 5 phân khúc (KDE)\")\n",
    "plt.xlabel(\"Price\")\n",
    "plt.ylabel(\"Density\")\n",
    "plt.legend(title='Segment', bbox_to_anchor=(1.05, 1), loc='upper left')\n",
    "plt.tight_layout()\n",
    "plt.show()\n"
   ]
  },
  {
   "cell_type": "code",
   "execution_count": 64,
   "id": "fdc17be4",
   "metadata": {},
   "outputs": [
    {
     "name": "stdout",
     "output_type": "stream",
     "text": [
      "Tổng dòng: 2168, Có phân khúc: 2168, Không gán phân khúc: 0\n"
     ]
    }
   ],
   "source": [
    "total_rows = len(df)\n",
    "non_missing = df['Price_Segment'].notna().sum()\n",
    "missing = df['Price_Segment'].isna().sum()\n",
    "print(f\"Tổng dòng: {total_rows}, Có phân khúc: {non_missing}, Không gán phân khúc: {missing}\")\n"
   ]
  },
  {
   "cell_type": "code",
   "execution_count": null,
   "id": "34072db9",
   "metadata": {},
   "outputs": [],
   "source": [
    "%pip install -U scikit-learn"
   ]
  },
  {
   "cell_type": "code",
   "execution_count": 69,
   "id": "4cb4d162",
   "metadata": {},
   "outputs": [
    {
     "name": "stderr",
     "output_type": "stream",
     "text": [
      "C:\\Users\\vulin\\AppData\\Local\\Temp\\ipykernel_18400\\169948543.py:23: UserWarning: No artists with labels found to put in legend.  Note that artists whose label start with an underscore are ignored when legend() is called with no argument.\n",
      "  plt.legend(title='Segment', bbox_to_anchor=(1.05, 1), loc='upper left')\n"
     ]
    },
    {
     "data": {
      "image/png": "[encoded data removed]",
      "text/plain": [
       "<Figure size 800x500 with 1 Axes>"
      ]
     },
     "metadata": {},
     "output_type": "display_data"
    },
    {
     "name": "stderr",
     "output_type": "stream",
     "text": [
      "C:\\Users\\vulin\\AppData\\Local\\Temp\\ipykernel_18400\\169948543.py:29: FutureWarning: \n",
      "\n",
      "Passing `palette` without assigning `hue` is deprecated and will be removed in v0.14.0. Assign the `x` variable to `hue` and set `legend=False` for the same effect.\n",
      "\n",
      "  sns.boxplot(\n"
     ]
    },
    {
     "data": {
      "image/png": "[encoded data removed]",
      "text/plain": [
       "<Figure size 900x500 with 1 Axes>"
      ]
     },
     "metadata": {},
     "output_type": "display_data"
    },
    {
     "name": "stderr",
     "output_type": "stream",
     "text": [
      "C:\\Users\\vulin\\AppData\\Local\\Temp\\ipykernel_18400\\169948543.py:45: FutureWarning: \n",
      "\n",
      "Passing `palette` without assigning `hue` is deprecated and will be removed in v0.14.0. Assign the `x` variable to `hue` and set `legend=False` for the same effect.\n",
      "\n",
      "  sns.countplot(\n"
     ]
    },
    {
     "data": {
      "image/png": "[encoded data removed]",
      "text/plain": [
       "<Figure size 800x400 with 1 Axes>"
      ]
     },
     "metadata": {},
     "output_type": "display_data"
    },
    {
     "data": {
      "image/png": "[encoded data removed]",
      "text/plain": [
       "<Figure size 800x500 with 1 Axes>"
      ]
     },
     "metadata": {},
     "output_type": "display_data"
    }
   ],
   "source": [
    "from sklearn.cluster import KMeans\n",
    "\n",
    "kmeans = KMeans(n_clusters=5, random_state=42)\n",
    "df['Price_Segment_KM'] = kmeans.fit_predict(df[['Price']])\n",
    "# đổi số cluster thành nhãn nếu cần\n",
    "mapping = {0:'Low',1:'Medium',2:'High',3:'Ultra High',4:'Luxury'}\n",
    "df['Price_Segment_KM'] = df['Price_Segment_KM'].map(mapping)\n",
    "\n",
    "# 1) Histogram\n",
    "plt.figure(figsize=(8, 5))\n",
    "sns.histplot(\n",
    "    data=df,\n",
    "    x='Price',\n",
    "    hue='Price_Segment_KM',\n",
    "    bins=30,\n",
    "    palette='tab10',\n",
    "    multiple='stack',\n",
    "    hue_order=order\n",
    ")\n",
    "plt.title(\"Phân phối giá theo 5 phân khúc (Histogram)\")\n",
    "plt.xlabel(\"Price\")\n",
    "plt.ylabel(\"Count\")\n",
    "plt.legend(title='Segment', bbox_to_anchor=(1.05, 1), loc='upper left')\n",
    "plt.tight_layout()\n",
    "plt.show()\n",
    "\n",
    "# 2) Boxplot\n",
    "plt.figure(figsize=(9, 5))\n",
    "sns.boxplot(\n",
    "    data=df,\n",
    "    x='Price_Segment_KM',\n",
    "    y='Price',\n",
    "    order=order,\n",
    "    palette='Set3'\n",
    ")\n",
    "plt.title(\"Boxplot giá theo 5 phân khúc\")\n",
    "plt.xlabel(\"Price Segment\")\n",
    "plt.ylabel(\"Price\")\n",
    "plt.xticks(rotation=30)\n",
    "plt.tight_layout()\n",
    "plt.show()\n",
    "\n",
    "# 3) Countplot\n",
    "plt.figure(figsize=(8, 4))\n",
    "sns.countplot(\n",
    "    data=df,\n",
    "    x='Price_Segment_KM',\n",
    "    order=order,\n",
    "    palette='pastel'\n",
    ")\n",
    "plt.title(\"Số lượng sản phẩm theo 5 phân khúc\")\n",
    "plt.xlabel(\"Price Segment\")\n",
    "plt.ylabel(\"Count\")\n",
    "plt.xticks(rotation=30)\n",
    "plt.tight_layout()\n",
    "plt.show()\n",
    "\n",
    "# 4) KDE Plot\n",
    "plt.figure(figsize=(8, 5))\n",
    "for seg in order:\n",
    "    sns.kdeplot(\n",
    "        data=df[df['Price_Segment_KM'] == seg]['Price'],\n",
    "        label=seg,\n",
    "        fill=True\n",
    "    )\n",
    "plt.title(\"Mật độ phân phối giá theo 5 phân khúc (KDE)\")\n",
    "plt.xlabel(\"Price\")\n",
    "plt.ylabel(\"Density\")\n",
    "plt.legend(title='Segment', bbox_to_anchor=(1.05, 1), loc='upper left')\n",
    "plt.tight_layout()\n",
    "plt.show()\n",
    "\n"
   ]
  },
  {
   "cell_type": "code",
   "execution_count": null,
   "id": "327aa3c6",
   "metadata": {},
   "outputs": [],
   "source": []
  }
 ],
 "metadata": {
  "kernelspec": {
   "display_name": ".venv",
   "language": "python",
   "name": "python3"
  },
  "language_info": {
   "codemirror_mode": {
    "name": "ipython",
    "version": 3
   },
   "file_extension": ".py",
   "mimetype": "text/x-python",
   "name": "python",
   "nbconvert_exporter": "python",
   "pygments_lexer": "ipython3",
   "version": "3.13.3"
  }
 },
 "nbformat": 4,
 "nbformat_minor": 5
}
